{
 "cells": [
  {
   "cell_type": "code",
   "execution_count": 3,
   "id": "a6539db2-a58a-4900-acb5-e2eb4f0cf30d",
   "metadata": {},
   "outputs": [],
   "source": [
    "import pydap\n",
    "import pydap.client\n",
    "import pydap.parsers.dmr\n",
    "import xml\n",
    "import numpy\n",
    "import sys"
   ]
  },
  {
   "cell_type": "markdown",
   "id": "ba23e1dc-d422-45f8-b1c4-602d3be9407c",
   "metadata": {},
   "source": [
    "# Dap2"
   ]
  },
  {
   "cell_type": "code",
   "execution_count": 4,
   "id": "afe08cd9-5b4f-4170-a668-7346029e3bc8",
   "metadata": {},
   "outputs": [],
   "source": [
    "ds = pydap.client.open_dods_file('data/coads_climatology.nc.dods')\n",
    "ds = pydap.client.open_dods_file('data/ATL03_20181228015957_13810110_003_01.2var.h5.dmrpp.dods')"
   ]
  },
  {
   "cell_type": "code",
   "execution_count": 5,
   "id": "460a23be-ff40-4dcb-aebd-a80c8aec5725",
   "metadata": {},
   "outputs": [
    {
     "data": {
      "text/plain": [
       "<BaseType with data array([31197611.26648983, 31197611.27148983, 31197611.27648983, ...,\n",
       "       31198058.70150019, 31198058.70650019, 31198058.71150019])>"
      ]
     },
     "execution_count": 5,
     "metadata": {},
     "output_type": "execute_result"
    }
   ],
   "source": [
    "ds['/gt1r/bckgrd_atlas/delta_time']"
   ]
  },
  {
   "cell_type": "markdown",
   "id": "406ef4f5-0414-4f8c-844f-df6bbb691041",
   "metadata": {
    "tags": []
   },
   "source": [
    "# Dap 4"
   ]
  },
  {
   "cell_type": "code",
   "execution_count": 10,
   "id": "bb5aa41a-da11-4f87-bdad-c7f914ee8c63",
   "metadata": {
    "tags": []
   },
   "outputs": [],
   "source": [
    "file_path = 'data/ATL03_20181228015957_13810110_003_01.2var.h5.dmrpp.dap'\n",
    "file_path = 'data/20220102090000-JPL-L4_GHRSST-SSTfnd-MUR-GLOB-v02.0-fv04.1_subset.dap'\n",
    "file_path = 'data/20220531090000-JPL-L4_GHRSST-SSTfnd-MUR-GLOB-v02.0-fv04.1.dap'\n",
    "file_path = 'data/coads_climatology.nc.dap'\n",
    "file_path = 'data/MY1DQND1.sst.ADD2005001.040.2006011070802.hdf.dap'"
   ]
  },
  {
   "cell_type": "code",
   "execution_count": null,
   "id": "b90469a6-b8b7-4ef9-857d-3aa0120977cc",
   "metadata": {},
   "outputs": [],
   "source": [
    "dataset = pydap.client.open_dap_file(file_path)\n",
    "dataset"
   ]
  },
  {
   "cell_type": "markdown",
   "id": "ba575e4e-1a9b-432d-9f0c-e5509a948d77",
   "metadata": {},
   "source": [
    "# Read Sizes, then DMR, then Data"
   ]
  },
  {
   "cell_type": "markdown",
   "id": "0943ea48-39d2-4169-846d-a228ab35ff5d",
   "metadata": {},
   "source": [
    "## First 4 bytes are the CRLF and length of the DMR"
   ]
  },
  {
   "cell_type": "code",
   "execution_count": 11,
   "id": "98242756-a796-4409-90dd-e8fee1f53e37",
   "metadata": {},
   "outputs": [
    {
     "data": {
      "text/plain": [
       "30829"
      ]
     },
     "execution_count": 11,
     "metadata": {},
     "output_type": "execute_result"
    }
   ],
   "source": [
    "with open(file_path, \"rb\") as f:  \n",
    "    clfr = f.read(2)\n",
    "    dmr_len = numpy.frombuffer(f.read(2), dtype='>u2')[0]\n",
    "dmr_len"
   ]
  },
  {
   "cell_type": "code",
   "execution_count": 12,
   "id": "8b4e59fc-9ef2-45d9-8f86-19f7a13416c8",
   "metadata": {},
   "outputs": [
    {
     "data": {
      "text/plain": [
       "30829"
      ]
     },
     "execution_count": 12,
     "metadata": {},
     "output_type": "execute_result"
    }
   ],
   "source": [
    "dmr_len"
   ]
  },
  {
   "cell_type": "code",
   "execution_count": 13,
   "id": "0e41c35f-b7b9-4acf-95c1-d570f14ceca0",
   "metadata": {},
   "outputs": [
    {
     "data": {
      "text/plain": [
       "9484"
      ]
     },
     "execution_count": 13,
     "metadata": {},
     "output_type": "execute_result"
    }
   ],
   "source": [
    "dmr_len = pydap.client.get_dmr_length(file_path)\n",
    "dmr_len"
   ]
  },
  {
   "cell_type": "markdown",
   "id": "951ed45a-102a-4bd6-911b-b5f213818899",
   "metadata": {},
   "source": [
    "## Read the DMR"
   ]
  },
  {
   "cell_type": "code",
   "execution_count": 14,
   "id": "bfc91816-7cde-444d-998f-aa13532d848c",
   "metadata": {},
   "outputs": [],
   "source": [
    "with open(file_path, \"rb\") as f:    \n",
    "    clfr = f.read(4)\n",
    "    dmr = f.read(dmr_len)\n",
    "dmr = dmr.decode('ascii')"
   ]
  },
  {
   "cell_type": "code",
   "execution_count": 16,
   "id": "6c7fd60b-91c1-42f0-a3c3-ffc6ccfb8ab5",
   "metadata": {},
   "outputs": [
    {
     "data": {
      "text/plain": [
       "<DatasetType with children 'sst_qual_b', 'Number_of_records', 'Number_of_samples_per_record', 'Latitude', 'Longitude'>"
      ]
     },
     "execution_count": 16,
     "metadata": {},
     "output_type": "execute_result"
    }
   ],
   "source": [
    "dataset = pydap.client.open_dmr_file(file_path)\n",
    "dataset"
   ]
  },
  {
   "cell_type": "markdown",
   "id": "ce163afc-62ce-4de9-a0dd-dab7880bd3b3",
   "metadata": {},
   "source": [
    "## Convert DMR to dataset"
   ]
  },
  {
   "cell_type": "markdown",
   "id": "ff1dd851-250f-4844-977f-fc49885d3f55",
   "metadata": {},
   "source": [
    "## Read Data"
   ]
  },
  {
   "cell_type": "code",
   "execution_count": 17,
   "id": "88c69f2a-c98d-40bb-8a21-ec51df08e969",
   "metadata": {},
   "outputs": [],
   "source": [
    "def decode_chunktype(chunk_type):      \n",
    "    encoding = '{0:03b}'.format(chunk_type)    \n",
    "    if sys.byteorder == 'little':\n",
    "        encoding = encoding[::-1]       \n",
    "    last_chunk = bool(int(encoding[0]))    \n",
    "    error = bool(int(encoding[1]))    \n",
    "    endian = {'0': '>', '1': '<'}[encoding[2]]\n",
    "    return last_chunk, error, endian\n",
    "    \n",
    "def get_length(variable):\n",
    "    dtype = variable.dtype        \n",
    "    shape = variable.shape\n",
    "    print(shape)\n",
    "    length = int(numpy.array(shape).prod())\n",
    "    itemsize = numpy.dtype(dtype).itemsize\n",
    "    count = length*itemsize        \n",
    "    return count\n",
    "    \n",
    "def decode_variable(buffer, start, stop, variable, endian):        \n",
    "    dtype = variable.dtype\n",
    "    dtype = dtype.newbyteorder(endian)    \n",
    "    data = numpy.frombuffer(buffer[start:stop], dtype=dtype).astype(dtype)\n",
    "    data = data.reshape(variable.shape)               \n",
    "    return data\n",
    "\n",
    "def get_endianness(f):\n",
    "    chunk_header = f.peek()[0:4]    \n",
    "    chunk_header = numpy.frombuffer(chunk_header, dtype='>u4')[0]    \n",
    "    chunk_type = ((chunk_header >> 24) & 0xff)\n",
    "    last, error, endian = decode_chunktype(chunk_type)         \n",
    "    return endian\n",
    "    \n",
    "    \n",
    "with open(file_path, \"rb\") as f:    \n",
    "    f.seek(dmr_len)\n",
    "    clfr = f.read(4)\n",
    "    \n",
    "    last = False\n",
    "    buffer = bytearray()\n",
    "    get_endianness(f)\n",
    "    while last == False:\n",
    "        chunk_header = f.read(4)\n",
    "        chunk_header = numpy.frombuffer(chunk_header, dtype='>u4')[0]\n",
    "        chunk_size = (chunk_header & 0x00ffffff)\n",
    "        chunk_type = ((chunk_header >> 24) & 0xff)\n",
    "        last, error, endian = decode_chunktype(chunk_type) \n",
    "        buffer.extend(f.read(chunk_size))  "
   ]
  },
  {
   "cell_type": "code",
   "execution_count": 18,
   "id": "70c1b2e2-c56c-49e1-9520-e2a4f15ef94c",
   "metadata": {},
   "outputs": [
    {
     "name": "stdout",
     "output_type": "stream",
     "text": [
      "(180, 360)\n"
     ]
    },
    {
     "ename": "ValueError",
     "evalue": "cannot reshape array of size 0 into shape (180,360)",
     "output_type": "error",
     "traceback": [
      "\u001b[0;31m---------------------------------------------------------------------------\u001b[0m",
      "\u001b[0;31mValueError\u001b[0m                                Traceback (most recent call last)",
      "\u001b[0;32m/tmp/ipykernel_156366/2019458652.py\u001b[0m in \u001b[0;36m<module>\u001b[0;34m\u001b[0m\n\u001b[1;32m      7\u001b[0m     \u001b[0mlength\u001b[0m \u001b[0;34m=\u001b[0m \u001b[0mint\u001b[0m\u001b[0;34m(\u001b[0m\u001b[0mget_length\u001b[0m\u001b[0;34m(\u001b[0m\u001b[0mvariable\u001b[0m\u001b[0;34m)\u001b[0m\u001b[0;34m)\u001b[0m\u001b[0;34m\u001b[0m\u001b[0;34m\u001b[0m\u001b[0m\n\u001b[1;32m      8\u001b[0m     \u001b[0mstop\u001b[0m \u001b[0;34m=\u001b[0m \u001b[0mstart\u001b[0m\u001b[0;34m+\u001b[0m\u001b[0mlength\u001b[0m\u001b[0;34m\u001b[0m\u001b[0;34m\u001b[0m\u001b[0m\n\u001b[0;32m----> 9\u001b[0;31m     \u001b[0mdata\u001b[0m \u001b[0;34m=\u001b[0m \u001b[0mdecode_variable\u001b[0m\u001b[0;34m(\u001b[0m\u001b[0mbuffer\u001b[0m\u001b[0;34m,\u001b[0m \u001b[0mstart\u001b[0m\u001b[0;34m=\u001b[0m\u001b[0mstart\u001b[0m\u001b[0;34m,\u001b[0m \u001b[0mstop\u001b[0m\u001b[0;34m=\u001b[0m\u001b[0mstop\u001b[0m\u001b[0;34m,\u001b[0m \u001b[0mvariable\u001b[0m\u001b[0;34m=\u001b[0m\u001b[0mvariable\u001b[0m\u001b[0;34m,\u001b[0m \u001b[0mendian\u001b[0m\u001b[0;34m=\u001b[0m\u001b[0mendian\u001b[0m\u001b[0;34m)\u001b[0m\u001b[0;34m\u001b[0m\u001b[0;34m\u001b[0m\u001b[0m\n\u001b[0m\u001b[1;32m     10\u001b[0m     \u001b[0md\u001b[0m\u001b[0;34m.\u001b[0m\u001b[0mappend\u001b[0m\u001b[0;34m(\u001b[0m\u001b[0mdata\u001b[0m\u001b[0;34m)\u001b[0m\u001b[0;34m\u001b[0m\u001b[0;34m\u001b[0m\u001b[0m\n\u001b[1;32m     11\u001b[0m     \u001b[0mchecksum\u001b[0m \u001b[0;34m=\u001b[0m \u001b[0mnumpy\u001b[0m\u001b[0;34m.\u001b[0m\u001b[0mfrombuffer\u001b[0m\u001b[0;34m(\u001b[0m\u001b[0mbuffer\u001b[0m\u001b[0;34m[\u001b[0m\u001b[0mstop\u001b[0m\u001b[0;34m:\u001b[0m\u001b[0mstop\u001b[0m\u001b[0;34m+\u001b[0m\u001b[0;36m4\u001b[0m\u001b[0;34m]\u001b[0m\u001b[0;34m,\u001b[0m \u001b[0mdtype\u001b[0m\u001b[0;34m=\u001b[0m\u001b[0mchecksum_dtype\u001b[0m\u001b[0;34m)\u001b[0m\u001b[0;34m.\u001b[0m\u001b[0mbyteswap\u001b[0m\u001b[0;34m(\u001b[0m\u001b[0;34m'='\u001b[0m\u001b[0;34m)\u001b[0m\u001b[0;34m\u001b[0m\u001b[0;34m\u001b[0m\u001b[0m\n",
      "\u001b[0;32m/tmp/ipykernel_156366/2632449533.py\u001b[0m in \u001b[0;36mdecode_variable\u001b[0;34m(buffer, start, stop, variable, endian)\u001b[0m\n\u001b[1;32m     21\u001b[0m     \u001b[0mdtype\u001b[0m \u001b[0;34m=\u001b[0m \u001b[0mdtype\u001b[0m\u001b[0;34m.\u001b[0m\u001b[0mnewbyteorder\u001b[0m\u001b[0;34m(\u001b[0m\u001b[0mendian\u001b[0m\u001b[0;34m)\u001b[0m\u001b[0;34m\u001b[0m\u001b[0;34m\u001b[0m\u001b[0m\n\u001b[1;32m     22\u001b[0m     \u001b[0mdata\u001b[0m \u001b[0;34m=\u001b[0m \u001b[0mnumpy\u001b[0m\u001b[0;34m.\u001b[0m\u001b[0mfrombuffer\u001b[0m\u001b[0;34m(\u001b[0m\u001b[0mbuffer\u001b[0m\u001b[0;34m[\u001b[0m\u001b[0mstart\u001b[0m\u001b[0;34m:\u001b[0m\u001b[0mstop\u001b[0m\u001b[0;34m]\u001b[0m\u001b[0;34m,\u001b[0m \u001b[0mdtype\u001b[0m\u001b[0;34m=\u001b[0m\u001b[0mdtype\u001b[0m\u001b[0;34m)\u001b[0m\u001b[0;34m.\u001b[0m\u001b[0mastype\u001b[0m\u001b[0;34m(\u001b[0m\u001b[0mdtype\u001b[0m\u001b[0;34m)\u001b[0m\u001b[0;34m\u001b[0m\u001b[0;34m\u001b[0m\u001b[0m\n\u001b[0;32m---> 23\u001b[0;31m     \u001b[0mdata\u001b[0m \u001b[0;34m=\u001b[0m \u001b[0mdata\u001b[0m\u001b[0;34m.\u001b[0m\u001b[0mreshape\u001b[0m\u001b[0;34m(\u001b[0m\u001b[0mvariable\u001b[0m\u001b[0;34m.\u001b[0m\u001b[0mshape\u001b[0m\u001b[0;34m)\u001b[0m\u001b[0;34m\u001b[0m\u001b[0;34m\u001b[0m\u001b[0m\n\u001b[0m\u001b[1;32m     24\u001b[0m     \u001b[0;32mreturn\u001b[0m \u001b[0mdata\u001b[0m\u001b[0;34m\u001b[0m\u001b[0;34m\u001b[0m\u001b[0m\n\u001b[1;32m     25\u001b[0m \u001b[0;34m\u001b[0m\u001b[0m\n",
      "\u001b[0;31mValueError\u001b[0m: cannot reshape array of size 0 into shape (180,360)"
     ]
    }
   ],
   "source": [
    "start = 0\n",
    "d = []\n",
    "\n",
    "checksum_dtype = numpy.dtype(endian + 'u4')\n",
    "for variable_name in dataset:    \n",
    "    variable = dataset[variable_name]        \n",
    "    length = int(get_length(variable))\n",
    "    stop = start+length\n",
    "    data = decode_variable(buffer, start=start, stop=stop, variable=variable, endian=endian)\n",
    "    d.append(data)\n",
    "    checksum = numpy.frombuffer(buffer[stop:stop+4], dtype=checksum_dtype).byteswap('=')\n",
    "    start = stop + 4"
   ]
  },
  {
   "cell_type": "code",
   "execution_count": null,
   "id": "bda4e4cd-b3ca-4ec3-be09-2979d9d97454",
   "metadata": {},
   "outputs": [],
   "source": []
  },
  {
   "cell_type": "markdown",
   "id": "e4f448ac-7641-4172-a26b-59f9fe307372",
   "metadata": {},
   "source": [
    "# Read all and split"
   ]
  },
  {
   "cell_type": "code",
   "execution_count": 27,
   "id": "34659fae-f635-41a9-94d7-431d1d3d27b2",
   "metadata": {
    "tags": []
   },
   "outputs": [],
   "source": [
    "with open(file_path, \"rt\", buffering=1, encoding='ascii', newline='\\n', errors='ignore') as f:\n",
    "    f.seek(4)\n",
    "    dap = f.read()\n",
    "    \n",
    "dmr = dap.split('</Dataset>')[0]\n",
    "data = dap.split('</Dataset>')[1]\n",
    "dmr = dmr +'</Dataset>'\n",
    "\n",
    "dom = xml.dom.minidom.parseString(dmr.strip())"
   ]
  },
  {
   "cell_type": "code",
   "execution_count": 28,
   "id": "439cdec1-4f60-4ed2-bb74-7f6b71d657da",
   "metadata": {},
   "outputs": [
    {
     "data": {
      "text/plain": [
       "'\\x04\\x00\\x1c<?xml version=\"1.0\" encoding=\"ISO-8859-1\"?>\\n<Dataset xmlns=\"http://xml.opendap.org/ns/DAP/4.0#\" xml:base=\"http://test.opendap.org:8080/opendap/dmrpp_test_files/ATL03_20181228015957_13810110_003_01.2var.h5.dmrpp\" dapVersion=\"4.0\" dmrVersion=\"1.0\" name=\"ATL03_20181228015957_13810110_003_01.h5\">\\n    <Group name=\"gt1r\">\\n        <Attribute name=\"Description\" type=\"String\">\\n            <Value>Each group contains the segments for one Ground Track. As ICESat-2 orbits the earth, sequential transmit pulses illuminate six ground tracks on the surface of the earth.  The track width is approximately 14m.  Each ground track is numbered, according to the laser spot number that generates a given ground track.  Ground tracks are numbered from the left to the right in the direction of spacecraft travel as: 1L, 1R in the left-most pair of beams; 2L, 2R for the center pair of beams; and 3L, 3R for the right-most pair of beams.</Value>\\n        </Attribute>\\n        <Attribute name=\"atlas_pce\" type=\"String\">\\n            <Value>pce3</Value>\\n        </Attribute>\\n        <Attribute name=\"atlas_beam_type\" type=\"String\">\\n            <Value>strong</Value>\\n        </Attribute>\\n        <Attribute name=\"groundtrack_id\" type=\"String\">\\n            <Value>gt1r</Value>\\n        </Attribute>\\n        <Attribute name=\"atmosphere_profile\" type=\"String\">\\n            <Value>profile_1</Value>\\n        </Attribute>\\n        <Attribute name=\"atlas_spot_number\" type=\"String\">\\n            <Value>5</Value>\\n        </Attribute>\\n        <Attribute name=\"sc_orientation\" type=\"String\">\\n            <Value>Forward</Value>\\n        </Attribute>\\n        <Group name=\"bckgrd_atlas\">\\n            <Dimension name=\"delta_time\" size=\"89490\"/>\\n            <Float32 name=\"bckgrd_int_height\">\\n                <Dim name=\"/gt1r/bckgrd_atlas/delta_time\"/>\\n                <Attribute name=\"contentType\" type=\"String\">\\n                    <Value>modelResult</Value>\\n                </Attribute>\\n                <Attribute name=\"coordinates\" type=\"String\">\\n                    <Value>delta_time</Value>\\n                </Attribute>\\n                <Attribute name=\"description\" type=\"String\">\\n                    <Value>The height of the altimetric range window.  This is the height over which the 50-shot sum is generated.  Parameter is ingested at 50-Hz, and values are repeated to form a 200-Hz array.</Value>\\n                </Attribute>\\n                <Attribute name=\"long_name\" type=\"String\">\\n                    <Value>Altimetric range window width</Value>\\n                </Attribute>\\n                <Attribute name=\"source\" type=\"String\">\\n                    <Value>ATL03 ATBD Section 7.3</Value>\\n                </Attribute>\\n                <Attribute name=\"units\" type=\"String\">\\n                    <Value>meters</Value>\\n                </Attribute>\\n            </Float32>\\n            <Float64 name=\"delta_time\">\\n                <Dim name=\"/gt1r/bckgrd_atlas/delta_time\"/>\\n                <Attribute name=\"description\" type=\"String\">\\n                    <Value>Elapsed GPS Seconds from the ATLAS SDP GPS Epoch, referenced to the start of the 50-shot sum. This is based on every fiftieth laser fire time, which leads to a very close alignment with major frame boundaries (+/- 1 shot). The ATLAS Standard Data Products (SDP) epoch offset is defined within /ancillary_data/atlas_sdp_gps_epoch as the number of GPS seconds between the GPS epoch (1980-01-06T00:00:00.000000Z UTC) and the ATLAS SDP epoch. By adding the offset contained within atlas_sdp_gps_epoch to delta time parameters, the time in gps_seconds relative to the GPS epoch can be computed.</Value>\\n                </Attribute>\\n                <Attribute name=\"long_name\" type=\"String\">\\n                    <Value>Time at the start of ATLAS 50-shot sum</Value>\\n                </Attribute>\\n                <Attribute name=\"source\" type=\"String\">\\n                    <Value>ATL02</Value>\\n                </Attribute>\\n                <Attribute name=\"standard_name\" type=\"String\">\\n                    <Value>time</Value>\\n                </Attribute>\\n                <Attribute name=\"units\" type=\"String\">\\n                    <Value>seconds since 2018-01-01</Value>\\n                </Attribute>\\n            </Float64>\\n        </Group>\\n        <Group name=\"heights\">\\n            <Dimension name=\"delta_time\" size=\"4102521\"/>\\n            <Float64 name=\"lat_ph\">\\n                <Dim name=\"/gt1r/heights/delta_time\"/>\\n                <Attribute name=\"coordinates\" type=\"String\">\\n                    <Value>delta_time lon_ph</Value>\\n                </Attribute>\\n                <Attribute name=\"description\" type=\"String\">\\n                    <Value>Latitude of each received photon. Computed from the ECF Cartesian coordinates of the bounce point.</Value>\\n                </Attribute>\\n                <Attribute name=\"long_name\" type=\"String\">\\n                    <Value>Latitude</Value>\\n                </Attribute>\\n                <Attribute name=\"source\" type=\"String\">\\n                    <Value>ATL03g ATBD, Section 3.4</Value>\\n                </Attribute>\\n                <Attribute name=\"standard_name\" type=\"String\">\\n                    <Value>latitude</Value>\\n                </Attribute>\\n                <Attribute name=\"units\" type=\"String\">\\n                    <Value>degrees_north</Value>\\n                </Attribute>\\n                <Attribute name=\"valid_max\" type=\"Float64\">\\n                    <Value>90.</Value>\\n                </Attribute>\\n                <Attribute name=\"valid_min\" type=\"Float64\">\\n                    <Value>-90.</Value>\\n                </Attribute>\\n            </Float64>\\n            <Float64 name=\"delta_time\">\\n                <Dim name=\"/gt1r/heights/delta_time\"/>\\n                <Attribute name=\"contentType\" type=\"String\">\\n                    <Value>referenceInformation</Value>\\n                </Attribute>\\n                <Attribute name=\"coordinates\" type=\"String\">\\n                    <Value>lat_ph lon_ph</Value>\\n                </Attribute>\\n                <Attribute name=\"description\" type=\"String\">\\n                    <Value>The transmit time of a given photon, measured in seconds from the ATLAS Standard Data Product Epoch. Note that multiple received photons associated with a single transmit pulse will have the same delta_time. The ATLAS Standard Data Products (SDP) epoch offset is defined within /ancillary_data/atlas_sdp_gps_epoch as the number of GPS seconds between the GPS epoch (1980-01-06T00:00:00.000000Z UTC) and the ATLAS SDP epoch. By adding the offset contained within atlas_sdp_gps_epoch to delta time parameters, the time in gps_seconds relative to the GPS epoch can be computed.</Value>\\n                </Attribute>\\n                <Attribute name=\"long_name\" type=\"String\">\\n                    <Value>Elapsed GPS seconds</Value>\\n                </Attribute>\\n                <Attribute name=\"source\" type=\"String\">\\n                    <Value>Operations</Value>\\n                </Attribute>\\n                <Attribute name=\"standard_name\" type=\"String\">\\n                    <Value>time</Value>\\n                </Attribute>\\n                <Attribute name=\"units\" type=\"String\">\\n                    <Value>seconds since 2018-01-01</Value>\\n                </Attribute>\\n            </Float64>\\n        </Group>\\n    </Group>\\n</Datas'"
      ]
     },
     "execution_count": 28,
     "metadata": {},
     "output_type": "execute_result"
    }
   ],
   "source": [
    "with open(file_path, \"rt\", buffering=1, encoding='ascii', newline='\\n', errors='ignore') as f:\n",
    "    \n",
    "    dmr = f.read(len(dmr))\n",
    "dmr"
   ]
  },
  {
   "cell_type": "code",
   "execution_count": 29,
   "id": "3d62ec1b-4884-4f83-b8c8-54d988ef4820",
   "metadata": {},
   "outputs": [
    {
     "name": "stdout",
     "output_type": "stream",
     "text": [
      "[2463519784734387823]\n"
     ]
    },
    {
     "data": {
      "text/plain": [
       "3"
      ]
     },
     "execution_count": 29,
     "metadata": {},
     "output_type": "execute_result"
    }
   ],
   "source": [
    "dmr = ''\n",
    "with open(file_path, \"rb\") as f:    \n",
    "    dap = f.read()\n",
    "    \n",
    "# CRLF: ASCII 13 + ASCII 10\n",
    "pos = len(dmr)+3\n",
    "\n",
    "with open(file_path, \"rb\") as f:    \n",
    "    f.seek(pos)\n",
    "    \n",
    "    chunk = numpy.frombuffer(f.read(4), dtype='<i4')\n",
    "    data = numpy.frombuffer(f.read(8), dtype='<d').astype('<d')\n",
    "    \n",
    "    r = numpy.frombuffer(f.read(8), dtype='<i8').astype('<i8')\n",
    "    print(r)\n",
    "    \n",
    "pos"
   ]
  },
  {
   "cell_type": "code",
   "execution_count": 30,
   "id": "74e1131b-de75-4685-a3ac-f636e25290a1",
   "metadata": {},
   "outputs": [
    {
     "data": {
      "text/plain": [
       "7330"
      ]
     },
     "execution_count": 30,
     "metadata": {},
     "output_type": "execute_result"
    }
   ],
   "source": [
    "dmr = dap.split(b'</Dataset>')[0] + b'</Dataset>'\n",
    "len(dmr)\n",
    "#7504"
   ]
  },
  {
   "cell_type": "markdown",
   "id": "3fe78cc5-d3d9-424c-8722-0bf0b695a5da",
   "metadata": {},
   "source": [
    "# Live"
   ]
  },
  {
   "cell_type": "code",
   "execution_count": 34,
   "id": "0e4edcde-90e2-449f-bf46-166c7cfbb3a1",
   "metadata": {},
   "outputs": [
    {
     "name": "stdout",
     "output_type": "stream",
     "text": [
      "var_dim_size 180\n",
      "total_nelems 180 total_data_size 360\n",
      "var_dim_size 90\n",
      "total_nelems 16200 total_data_size 32400\n",
      "var_dim_size 12\n",
      "total_nelems 194400 total_data_size 388800\n",
      "var_dim_size 12\n",
      "var_dim_size 90\n",
      "var_dim_size 180\n",
      "total_nelems 37791360000 total_data_size 75582720000\n",
      "var_dim_size 12\n",
      "var_dim_size 90\n",
      "var_dim_size 180\n",
      "total_nelems 7346640384000000 total_data_size 14693280768000000\n",
      "var_dim_size 12\n",
      "var_dim_size 90\n",
      "var_dim_size 180\n",
      "total_nelems 1428186890649600000000 total_data_size 2856373781299200000000\n",
      "var_dim_size 12\n",
      "var_dim_size 90\n",
      "var_dim_size 180\n",
      "total_nelems 277639531542282240000000000 total_data_size 555279063084564480000000000\n"
     ]
    }
   ],
   "source": [
    "url = 'http://test.opendap.org/opendap/data/nc/coads_climatology.nc.dap'\n",
    "r = pydap.net.GET(url)\n",
    "crlf = r.body.find('\\r\\n'.encode())\n",
    "dmr = r.body[4:crlf]\n",
    "dataset = pydap.parsers.dmr.dmr_to_dataset(dmr.decode())\n",
    "\n",
    "total_nelems = 1\n",
    "bytes_per_item = 2\n",
    "for var in dataset: \n",
    "    for var_dim_size in dataset[var].shape:\n",
    "        print(f\"var_dim_size {var_dim_size}\")\n",
    "        total_nelems *= int(var_dim_size)\n",
    "        total_data_size = total_nelems * bytes_per_item\n",
    "        \n",
    "    #dataset[var].data.extend(total_nelems)\n",
    "    print(\"total_nelems \" + str(total_nelems) + \" total_data_size \" + str(total_data_size))"
   ]
  },
  {
   "cell_type": "markdown",
   "id": "e394bef3-15c7-493e-9100-1ed133065cc0",
   "metadata": {
    "tags": []
   },
   "source": [
    "# Downloading the constrained dataset"
   ]
  },
  {
   "cell_type": "code",
   "execution_count": 73,
   "id": "95ffbf35-b1ff-4443-886d-26d476544d5b",
   "metadata": {},
   "outputs": [
    {
     "name": "stdout",
     "output_type": "stream",
     "text": [
      "http://test.opendap.org/opendap/data/nc/coads_climatology.nc.dap?dap4.ce=/SST%5B0%3A1%3A1%5D%5B1%3A1%3A2%5D%5B0%3A1%3A3%5D\n"
     ]
    }
   ],
   "source": [
    "subset = pydap.lib.quote('/SST[0:1:1][1:1:2][0:1:3]')\n",
    "dataset = 'http://test.opendap.org/opendap/data/nc/coads_climatology.nc.dap'\n",
    "url = f'{dataset}?dap4.ce={subset}'\n",
    "ret = requests.get(url)\n",
    "print(url)"
   ]
  },
  {
   "cell_type": "markdown",
   "id": "7a1eb1d4-da36-48d3-8370-dfea4e06d1de",
   "metadata": {},
   "source": [
    "# Splitting and parsing the DMR and Data"
   ]
  },
  {
   "cell_type": "code",
   "execution_count": 76,
   "id": "ca21e426-51fd-4b8e-b7e6-8a9fee08a4dc",
   "metadata": {},
   "outputs": [],
   "source": [
    "dmr_len = ret.content[0:4]\n",
    "dmr_len = numpy.frombuffer(dmr_len, dtype='>i')\n",
    "\n",
    "dmr = ret.content.split(b'</Dataset>')[0][4:] + b'</Dataset>'\n",
    "dmr_dom = xml.dom.minidom.parseString(dmr)\n",
    "data = ret.content.split(b'</Dataset>\\n\\r\\n')[1]"
   ]
  },
  {
   "cell_type": "markdown",
   "id": "f4c5b115-1500-4293-b5d9-7a435f862b21",
   "metadata": {},
   "source": [
    "# Getting the element size from the DOM"
   ]
  },
  {
   "cell_type": "code",
   "execution_count": 79,
   "id": "54623b57-ea55-4732-b57b-48e4ead575db",
   "metadata": {},
   "outputs": [
    {
     "data": {
      "text/plain": [
       "'2'"
      ]
     },
     "execution_count": 79,
     "metadata": {},
     "output_type": "execute_result"
    }
   ],
   "source": [
    "dmr_dom.getElementsByTagName('Dim')[0].getAttribute('size')"
   ]
  },
  {
   "cell_type": "markdown",
   "id": "b9488221-804a-4126-938a-1b6c8dbc062e",
   "metadata": {},
   "source": [
    "# Pulling out the chunk information"
   ]
  },
  {
   "cell_type": "code",
   "execution_count": 80,
   "id": "67d168c3-5ae4-4d87-8696-1a3510ede505",
   "metadata": {},
   "outputs": [
    {
     "name": "stdout",
     "output_type": "stream",
     "text": [
      "4 68\n"
     ]
    }
   ],
   "source": [
    "chunk = numpy.frombuffer(data[0:4], dtype='>i4')\n",
    "chunk_size = (chunk & 0x00ffffff)[0]\n",
    "chunk_code_int = ((chunk >> 24) & 0xff)[0]\n",
    "\n",
    "print(chunk_code_int, chunk_size)"
   ]
  },
  {
   "cell_type": "markdown",
   "id": "6f591b11-f75b-4c15-813e-644ece84a77a",
   "metadata": {},
   "source": [
    "## Chunk Type Encoding\n",
    "\n",
    "|Bit #|\tValue of 0\t|Value of 1|\n",
    "| :--- | :---|:--- | \n",
    "|0\t|A data containing chunk|\tThe last data chunk|\n",
    "|1\t|The current chunk is not an error chunk.|The current chunk is an \"error chunk\" and contains an error message|\n",
    "|2\t|The data in this response is encoded using Big-Endian (i.e. network byte order)\t|The data in this response is encoded using Little-Endian|\n"
   ]
  },
  {
   "cell_type": "code",
   "execution_count": 81,
   "id": "604791be-73ac-4bcc-b5cf-25d17ecb6d1f",
   "metadata": {},
   "outputs": [
    {
     "data": {
      "text/plain": [
       "'0b100'"
      ]
     },
     "execution_count": 81,
     "metadata": {},
     "output_type": "execute_result"
    }
   ],
   "source": [
    "chunk_code = bin(chunk_code_int)\n",
    "chunk_code"
   ]
  },
  {
   "cell_type": "markdown",
   "id": "7bcecdc8-d0b0-4216-a96d-e851c28590c8",
   "metadata": {},
   "source": [
    "# Getting values"
   ]
  },
  {
   "cell_type": "code",
   "execution_count": 82,
   "id": "71f8b2be-aa01-4445-b42e-b559f1ab5a78",
   "metadata": {},
   "outputs": [
    {
     "data": {
      "text/plain": [
       "array([-1.e+34, -1.e+34, -1.e+34, -1.e+34, -1.e+34, -1.e+34, -1.e+34,\n",
       "       -1.e+34, -1.e+34, -1.e+34, -1.e+34, -1.e+34, -1.e+34, -1.e+34,\n",
       "       -1.e+34, -1.e+34], dtype=float32)"
      ]
     },
     "execution_count": 82,
     "metadata": {},
     "output_type": "execute_result"
    }
   ],
   "source": [
    "values = numpy.frombuffer(data[4:chunk_size], dtype='<f').astype('<f')\n",
    "values"
   ]
  },
  {
   "cell_type": "markdown",
   "id": "fb870480-227f-4310-9045-97dd29a82893",
   "metadata": {},
   "source": [
    "# Getting checksum"
   ]
  },
  {
   "cell_type": "code",
   "execution_count": 83,
   "id": "8d42a651-ee32-4e00-84c1-4168965af0d5",
   "metadata": {},
   "outputs": [
    {
     "data": {
      "text/plain": [
       "array([-579129404597828385])"
      ]
     },
     "execution_count": 83,
     "metadata": {},
     "output_type": "execute_result"
    }
   ],
   "source": [
    "checksum = numpy.frombuffer(data[12:20], dtype='<i8').astype('<i8')\n",
    "checksum"
   ]
  },
  {
   "cell_type": "markdown",
   "id": "5a0425b4-a77c-43f7-b28e-6e6f37721c5f",
   "metadata": {},
   "source": [
    "# Experiments"
   ]
  },
  {
   "cell_type": "code",
   "execution_count": 31,
   "id": "06702d5f-a0a2-4281-a8fa-1b891375096e",
   "metadata": {},
   "outputs": [
    {
     "data": {
      "text/plain": [
       "67109873"
      ]
     },
     "execution_count": 31,
     "metadata": {},
     "output_type": "execute_result"
    }
   ],
   "source": [
    "import struct\n",
    "\n",
    "\n",
    "d, = struct.unpack('>i', b'\\x04\\x00\\x03\\xf1')\n",
    "d"
   ]
  },
  {
   "cell_type": "code",
   "execution_count": 32,
   "id": "70ef6388-bd9b-4f74-b50b-d53910eb523b",
   "metadata": {},
   "outputs": [
    {
     "data": {
      "text/plain": [
       "'\\x05\\x00\\x00\\x00'"
      ]
     },
     "execution_count": 32,
     "metadata": {},
     "output_type": "execute_result"
    }
   ],
   "source": [
    "'\\x04\\x00\\x00'\n",
    "'\\x05\\x00\\x00\\x00'"
   ]
  },
  {
   "cell_type": "code",
   "execution_count": 33,
   "id": "4714aeff-4afd-4728-a610-0238ef3adebc",
   "metadata": {},
   "outputs": [],
   "source": [
    "DAP2_ARRAY_LENGTH_NUMPY_TYPE = '>I'"
   ]
  },
  {
   "cell_type": "code",
   "execution_count": null,
   "id": "30dc473c-1923-40fa-8ed7-790fe9c8c7cb",
   "metadata": {},
   "outputs": [],
   "source": []
  }
 ],
 "metadata": {
  "kernelspec": {
   "display_name": "Python 3",
   "language": "python",
   "name": "python3"
  },
  "language_info": {
   "codemirror_mode": {
    "name": "ipython",
    "version": 3
   },
   "file_extension": ".py",
   "mimetype": "text/x-python",
   "name": "python",
   "nbconvert_exporter": "python",
   "pygments_lexer": "ipython3",
   "version": "3.7.13"
  }
 },
 "nbformat": 4,
 "nbformat_minor": 5
}
