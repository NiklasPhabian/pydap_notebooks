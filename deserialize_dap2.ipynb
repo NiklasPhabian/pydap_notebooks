{
 "cells": [
  {
   "cell_type": "code",
   "execution_count": 1,
   "id": "d4afcb2a-44c9-48f9-8df6-dddf95aff870",
   "metadata": {},
   "outputs": [],
   "source": [
    "import pydap\n",
    "import pydap.client\n",
    "import pydap.handlers.dap\n",
    "import pydap.parsers.dds\n",
    "import xml.etree.ElementTree as ET\n",
    "import numpy\n",
    "import xml.dom"
   ]
  },
  {
   "cell_type": "markdown",
   "id": "00abe194-9805-4cb2-9ebf-60b6c93d1130",
   "metadata": {},
   "source": [
    "# Dap2"
   ]
  },
  {
   "cell_type": "code",
   "execution_count": 2,
   "id": "c55a1380-5921-4a46-adda-30167734cf39",
   "metadata": {},
   "outputs": [],
   "source": [
    "dods = 'MY1DQND1.sst.ADD2005001.040.2006011070802.hdf.dods'\n",
    "dods = 'data/coads_climatology.nc.dods'"
   ]
  },
  {
   "cell_type": "code",
   "execution_count": 3,
   "id": "3c1a6976-ca39-48d1-8231-046d64cfc635",
   "metadata": {},
   "outputs": [],
   "source": [
    "ds = pydap.client.open_file(dods)"
   ]
  },
  {
   "cell_type": "code",
   "execution_count": 4,
   "id": "72217a6a-d45c-4ea9-8131-94f8138ac1ce",
   "metadata": {},
   "outputs": [
    {
     "name": "stdout",
     "output_type": "stream",
     "text": [
      "72\n"
     ]
    }
   ],
   "source": [
    "dds = ''\n",
    "with open(dods, \"rt\", buffering=1, encoding='ascii',\n",
    "    newline='\\n', errors='ignore') as f:\n",
    "    for line in f:\n",
    "        if line.strip() == 'Data:':\n",
    "            break\n",
    "        dds += line\n",
    "dataset = pydap.parsers.dds.build_dataset(dds)\n",
    "pos = len(dds) + len('Data:\\n')\n",
    "print(pos)"
   ]
  },
  {
   "cell_type": "code",
   "execution_count": 5,
   "id": "8bc3da07-ad90-459d-b335-4986c57490d8",
   "metadata": {},
   "outputs": [
    {
     "data": {
      "text/plain": [
       "<generator object StructureType.children at 0x7f17c4144200>"
      ]
     },
     "execution_count": 5,
     "metadata": {},
     "output_type": "execute_result"
    }
   ],
   "source": [
    "dataset.children()"
   ]
  },
  {
   "cell_type": "code",
   "execution_count": null,
   "id": "b60271af-802d-4620-be29-395b90516c64",
   "metadata": {},
   "outputs": [],
   "source": []
  },
  {
   "cell_type": "code",
   "execution_count": 11,
   "id": "31639cb4-e7e1-440b-9ab9-e1df2496a904",
   "metadata": {},
   "outputs": [
    {
     "name": "stdout",
     "output_type": "stream",
     "text": [
      "b'@5\\x00\\x00\\x00\\x00\\x00\\x00'\n",
      "88\n"
     ]
    },
    {
     "data": {
      "text/plain": [
       "array([21.])"
      ]
     },
     "execution_count": 11,
     "metadata": {},
     "output_type": "execute_result"
    }
   ],
   "source": [
    "cols = list(dataset.children()) \n",
    "DAP2_ARRAY_LENGTH_NUMPY_TYPE = '>i'\n",
    "#parser_dtype = \n",
    "#response_dtype = DAP2_response_dtypemap(parser_dtype)\n",
    "\n",
    "response_dtype = numpy.dtype('float64')\n",
    "\n",
    "with open(dods, \"rb\") as f:\n",
    "    f.seek(pos)\n",
    "    \n",
    "    n = numpy.frombuffer(f.read(4), DAP2_ARRAY_LENGTH_NUMPY_TYPE)[0]\n",
    "    count = response_dtype.itemsize * n\n",
    "    f.read(4) # Why?\n",
    "    \n",
    "    print(f.peek())\n",
    "    data = numpy.frombuffer(f.read(count), '>f8').astype('>f8')\n",
    "    print(f.tell())\n",
    "    \n",
    "data   \n"
   ]
  },
  {
   "cell_type": "code",
   "execution_count": 12,
   "id": "ad8a04ac-a325-4167-969a-d4f886f7e4f8",
   "metadata": {},
   "outputs": [
    {
     "data": {
      "text/plain": [
       "8"
      ]
     },
     "execution_count": 12,
     "metadata": {},
     "output_type": "execute_result"
    }
   ],
   "source": [
    "count"
   ]
  },
  {
   "cell_type": "code",
   "execution_count": 13,
   "id": "31c1c5b0-1db9-47ac-a427-7a2c28faaa9b",
   "metadata": {
    "tags": []
   },
   "outputs": [
    {
     "data": {
      "text/plain": [
       "[<pydap.parsers.dds.DummyData at 0x7fea9d277730>]"
      ]
     },
     "execution_count": 13,
     "metadata": {},
     "output_type": "execute_result"
    }
   ],
   "source": [
    "dataset.data"
   ]
  },
  {
   "cell_type": "code",
   "execution_count": 14,
   "id": "5370ef9b-340b-4bef-bc1a-0b7cf00a0259",
   "metadata": {
    "tags": []
   },
   "outputs": [
    {
     "data": {
      "text/plain": [
       "[<BaseType with data <pydap.parsers.dds.DummyData object at 0x7fea9d277730>>]"
      ]
     },
     "execution_count": 14,
     "metadata": {},
     "output_type": "execute_result"
    }
   ],
   "source": [
    "cols = list(dataset.children()) \n",
    "cols"
   ]
  }
 ],
 "metadata": {
  "kernelspec": {
   "display_name": "Python 3",
   "language": "python",
   "name": "python3"
  },
  "language_info": {
   "codemirror_mode": {
    "name": "ipython",
    "version": 3
   },
   "file_extension": ".py",
   "mimetype": "text/x-python",
   "name": "python",
   "nbconvert_exporter": "python",
   "pygments_lexer": "ipython3",
   "version": "3.7.13"
  }
 },
 "nbformat": 4,
 "nbformat_minor": 5
}
