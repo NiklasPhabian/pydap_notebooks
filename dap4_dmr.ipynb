{
 "cells": [
  {
   "cell_type": "code",
   "execution_count": 1,
   "id": "7d8e99da-d281-4c7f-8ed3-196972a547ce",
   "metadata": {},
   "outputs": [],
   "source": [
    "import requests\n",
    "import numpy\n",
    "import pydap.parsers.dmr\n",
    "import pydap.model\n",
    "import pydap.client\n",
    "from xml.etree import ElementTree as ET\n",
    "import re\n",
    "import copy\n",
    "import collections"
   ]
  },
  {
   "cell_type": "markdown",
   "id": "4cd8fbc7-f409-4982-9d51-45a51ad2a8b6",
   "metadata": {},
   "source": [
    "# Loading DMRs or DAPs"
   ]
  },
  {
   "cell_type": "code",
   "execution_count": 2,
   "id": "6ce0b6e1-f864-4660-9c4d-0a6742ff44f7",
   "metadata": {},
   "outputs": [],
   "source": [
    "file_path = 'data/20220102090000-JPL-L4_GHRSST-SSTfnd-MUR-GLOB-v02.0-fv04.1_subset.dap'\n",
    "file_path = 'data/MY1DQND1.sst.ADD2005001.040.2006011070802.hdf.dap'\n",
    "dmr_len = pydap.client.get_dmr_length(file_path)\n",
    "with open(file_path, \"rb\") as f:    \n",
    "    #clfr = f.read(4)\n",
    "    dmr = f.read(dmr_len)\n",
    "dmr = dmr.decode('ascii')"
   ]
  },
  {
   "cell_type": "code",
   "execution_count": 3,
   "id": "4c3efb94-16b8-498f-a3b1-347981c1ba83",
   "metadata": {},
   "outputs": [],
   "source": [
    "#fname = 'data/ATL03_20181228015957_13810110_003_01.2var.h5.dmrpp.dmr'\n",
    "fname = 'data/20220531090000-JPL-L4_GHRSST-SSTfnd-MUR-GLOB-v02.0-fv04.1.dmr'\n",
    "             \n",
    "#fname = 'data/coads_climatology.nc.dmr'\n",
    "#fname = 'data/MOD05_L2.A2019336.2315.061.2019337071952.hdf.dmr'\n",
    "\n",
    "with open(fname, 'r') as dmr_file:\n",
    "    dmr = dmr_file.read()"
   ]
  },
  {
   "cell_type": "code",
   "execution_count": 4,
   "id": "a864cb83-2663-42d9-ad77-528bb3eb737f",
   "metadata": {},
   "outputs": [],
   "source": [
    "dmr = re.sub(' xmlns=\"[^\"]+\"', '', dmr, count=1)\n",
    "dom_et = ET.fromstring(dmr)"
   ]
  },
  {
   "cell_type": "markdown",
   "id": "4c7708d1-e55a-4778-88b5-cc6917bb4d4c",
   "metadata": {
    "tags": []
   },
   "source": [
    "# Define functions"
   ]
  },
  {
   "cell_type": "code",
   "execution_count": 5,
   "id": "53235e94-2706-4446-b2d4-835aa504a3f4",
   "metadata": {},
   "outputs": [],
   "source": [
    "dmr_atomic_types = ['Int8', 'UInt8', 'Byte', 'Char', 'Int16', \n",
    "                    'UInt16', 'Int32', 'UInt32',\n",
    "                    'Int64', 'UInt64', 'Float32', 'Float64']\n",
    "\n",
    "def dap4_to_numpy_typemap(type_string):\n",
    "    \"\"\"\n",
    "    This function takes a numpy dtype object\n",
    "    and returns a dtype object that is compatible with\n",
    "    the DAP2 specification.\n",
    "    \"\"\"\n",
    "    dtype_str = pydap.lib.DAP4_TO_NUMPY_PARSER_TYPEMAP[type_string]\n",
    "    return numpy.dtype(dtype_str)\n",
    "\n",
    "def get_attributes(element):\n",
    "    attributes = {}\n",
    "    attribute_elements = element.findall('Attribute')\n",
    "    for attribute_element in attribute_elements:\n",
    "        name = attribute_element.get('name')\n",
    "        value = attribute_element.find('Value').text\n",
    "        attributes[name] = value\n",
    "    return attributes\n",
    "\n",
    "def get_dtype(element):\n",
    "    dtype = element.tag\n",
    "    dtype = dap4_to_numpy_typemap(dtype)\n",
    "    return dtype\n",
    "\n",
    "def get_dim_names(element):\n",
    "    n_unnamed = 0\n",
    "    # Not to be confused with dimensions\n",
    "    dimension_elements = element.findall('Dim')\n",
    "    dimensions = []\n",
    "    for dimension_element in dimension_elements:\n",
    "        name = dimension_element.get('name')\n",
    "        if name is None:\n",
    "            # We might have unnamed dimensions\n",
    "            return dimensions\n",
    "        if name.find('/', 1) == -1:\n",
    "            # If this is a root Dimension, we remove the leading slash\n",
    "            name = name.replace('/', '')\n",
    "        dimensions.append(name)\n",
    "    return dimensions\n",
    "\n",
    "def has_map(element):\n",
    "    maps = element.findall('Map')    \n",
    "    if len(maps) > 0:        \n",
    "        return True\n",
    "    else:\n",
    "        return False\n",
    "    \n",
    "def get_shape(dimensions, variable):\n",
    "    shape = []\n",
    "    for dim_name in variable['dims']:\n",
    "        shape.append(dimensions[dim_name]['size'])\n",
    "    return shape\n",
    "\n",
    "def get_dim_sizes(element):\n",
    "    dimension_elements = element.findall('Dim')\n",
    "    dimension_sizes = ()\n",
    "    for dimension_element in dimension_elements:\n",
    "        name = dimension_element.get('name')\n",
    "        if name is None:\n",
    "            size = int(dimension_element.get('size'))\n",
    "            dimension_sizes += (size,)\n",
    "    return dimension_sizes"
   ]
  },
  {
   "cell_type": "code",
   "execution_count": 6,
   "id": "f661c727-5b34-4cb8-a3d6-31e545213adc",
   "metadata": {},
   "outputs": [],
   "source": [
    "class DummyData(object):\n",
    "    def __init__(self, dtype, shape):\n",
    "        self.dtype = dtype\n",
    "        self.shape = shape"
   ]
  },
  {
   "cell_type": "markdown",
   "id": "2dbb48f6-9875-45f3-b6bf-0788e2ed7c52",
   "metadata": {},
   "source": [
    "# Ordered Approach"
   ]
  },
  {
   "cell_type": "code",
   "execution_count": 7,
   "id": "2c9f9605-de18-4b62-bf93-305ea16fe2f2",
   "metadata": {},
   "outputs": [],
   "source": [
    "def get_variables(node, prefix=''):\n",
    "    variables = collections.OrderedDict()\n",
    "    group_name = node.get('name')\n",
    "    if group_name is None:\n",
    "        return variables\n",
    "    if node.tag != 'Dataset':\n",
    "        prefix = prefix + '/' + group_name\n",
    "    for subnode in node:\n",
    "        if subnode.tag in dmr_atomic_types:\n",
    "            name = subnode.get('name')\n",
    "            if prefix != '':\n",
    "                name = prefix + '/' + name\n",
    "            variables[name] = {'element': subnode}\n",
    "        variables.update(get_variables(subnode, prefix))\n",
    "    return variables"
   ]
  },
  {
   "cell_type": "code",
   "execution_count": 8,
   "id": "a5540123-cbdb-4c20-8783-9d6072ec8f77",
   "metadata": {},
   "outputs": [],
   "source": [
    "def get_named_dimensions(node, prefix=''):\n",
    "    dimensions = {}\n",
    "    group_name = node.get('name')\n",
    "    if group_name is None:\n",
    "        return dimensions\n",
    "    if node.tag != 'Dataset':\n",
    "        prefix = prefix + '/' + group_name\n",
    "    for subnode in node:\n",
    "        if subnode.tag == 'Dimension':\n",
    "            name = subnode.get('name')\n",
    "            if prefix != '':\n",
    "                name = prefix + '/' + name\n",
    "            dimensions[name] = int(subnode.attrib['size'])\n",
    "        dimensions.update(get_named_dimensions(subnode, prefix))\n",
    "    return dimensions"
   ]
  },
  {
   "cell_type": "code",
   "execution_count": 9,
   "id": "00173e2d-25b4-4c37-931f-6bedf86e0619",
   "metadata": {},
   "outputs": [],
   "source": [
    "variables = get_variables(dom_et)\n",
    "named_dimensions = get_named_dimensions(dom_et)"
   ]
  },
  {
   "cell_type": "code",
   "execution_count": 10,
   "id": "2448a206-8e9b-4fad-ab0e-5d04accc3d78",
   "metadata": {},
   "outputs": [
    {
     "data": {
      "text/plain": [
       "OrderedDict([('mask', {'element': <Element 'Int8' at 0x7fc7083d2ca0>}),\n",
       "             ('analysed_sst',\n",
       "              {'element': <Element 'Int16' at 0x7fc7083d3510>}),\n",
       "             ('lon', {'element': <Element 'Float32' at 0x7fc7083d3d80>}),\n",
       "             ('time', {'element': <Element 'Int32' at 0x7fc7083ec2c0>}),\n",
       "             ('sea_ice_fraction',\n",
       "              {'element': <Element 'Int8' at 0x7fc7083ec770>}),\n",
       "             ('dt_1km_data', {'element': <Element 'Int8' at 0x7fc7083ecf90>}),\n",
       "             ('lat', {'element': <Element 'Float32' at 0x7fc7083ed620>}),\n",
       "             ('analysis_error',\n",
       "              {'element': <Element 'Int16' at 0x7fc7083edb20>}),\n",
       "             ('sst_anomaly',\n",
       "              {'element': <Element 'Int16' at 0x7fc7083ee200>})])"
      ]
     },
     "execution_count": 10,
     "metadata": {},
     "output_type": "execute_result"
    }
   ],
   "source": [
    "variables"
   ]
  },
  {
   "cell_type": "markdown",
   "id": "badfb757-4b6b-4ac6-a9cc-80f42c387fe0",
   "metadata": {
    "tags": []
   },
   "source": [
    "## Now converting variable and named dimensions to dataset"
   ]
  },
  {
   "cell_type": "code",
   "execution_count": 11,
   "id": "68f1c252-3bf1-4cbe-905e-c95237c277ef",
   "metadata": {},
   "outputs": [],
   "source": [
    "for name, size in named_dimensions.items():\n",
    "    if name in variables:\n",
    "        variables[name]['size'] = size"
   ]
  },
  {
   "cell_type": "code",
   "execution_count": 12,
   "id": "f32637dd-8ccc-4621-8f2c-9afeeafca96e",
   "metadata": {},
   "outputs": [],
   "source": [
    "for name, variable in variables.items():\n",
    "    variable['name'] = name\n",
    "    variable['attributes'] = get_attributes(variable['element'])\n",
    "    variable['dtype'] = get_dtype(variable['element'])\n",
    "    variable['dims'] = get_dim_names(variable['element'])\n",
    "    variable['has_map'] = has_map(variable['element'])\n",
    "    #variable['size'] = None\n",
    "    variable['shape'] = get_dim_sizes(variable['element'])"
   ]
  },
  {
   "cell_type": "code",
   "execution_count": 13,
   "id": "687ccb79-e0d5-4f71-b23f-e4b0cb6bf3a9",
   "metadata": {},
   "outputs": [],
   "source": [
    "for name, size in named_dimensions.items():\n",
    "    # We might have dimensions that only have a declaration, so we add them to the variables\n",
    "    variables[name] = {'name': name, 'size': size, 'dims': [name], 'element': None, 'dtype': 'int', 'has_map': False, 'attributes': {}, 'shape': ()}"
   ]
  },
  {
   "cell_type": "code",
   "execution_count": 14,
   "id": "e77bc655-150c-4650-bb7e-323c8716f5c9",
   "metadata": {},
   "outputs": [],
   "source": [
    "for name, variable in variables.items():\n",
    "    dims = variable['dims']\n",
    "    for dim in dims:\n",
    "        variable['shape'] += (variables[dim]['size'],) "
   ]
  },
  {
   "cell_type": "code",
   "execution_count": 15,
   "id": "1833df93-04d8-4b45-ac8d-0e9b7b0a1310",
   "metadata": {},
   "outputs": [],
   "source": [
    "dataset = pydap.model.DatasetType()\n",
    "for name, variable in variables.items():\n",
    "    data = DummyData(dtype=variable['dtype'], shape=variable['shape'])\n",
    "    array = pydap.model.BaseType(name=variable['name'], data=data, dimensions=variable['dims'])\n",
    "    if variable['has_map']:\n",
    "        var = pydap.model.GridType(name=variable['name'])\n",
    "        var[name] = array\n",
    "        for dim in variable['dims']:\n",
    "            var[dim] = copy.copy(dataset[dim])\n",
    "    else:\n",
    "        var = array\n",
    "    var.attributes = variable['attributes']\n",
    "    dataset[var.name] = var"
   ]
  },
  {
   "cell_type": "markdown",
   "id": "b2d54d0b-42e9-46b2-9b8b-9cbd70991189",
   "metadata": {},
   "source": [
    "# Unordered"
   ]
  },
  {
   "cell_type": "code",
   "execution_count": 16,
   "id": "be191af2-f7e8-4670-8bd3-ac6cc7edffe5",
   "metadata": {},
   "outputs": [],
   "source": [
    "def get_group_variables(element, parent_name=''):\n",
    "    variables = {}  \n",
    "    group_elements = element.findall('Group')\n",
    "    for group_element in group_elements:\n",
    "        group_name = parent_name + '/' +  group_element.get('name')               \n",
    "        group_variables = get_variables(group_element, group_name)        \n",
    "        subgroup_variables = get_group_variables(group_element, group_name)                        \n",
    "        variables = {**variables, **group_variables, **subgroup_variables}\n",
    "    return variables\n",
    "        \n",
    "def get_variables(element, parent_name=''):\n",
    "    variables = {}\n",
    "    for atomic_type in dmr_atomic_types:              \n",
    "        for variable in element.findall(atomic_type):            \n",
    "            name = variable.attrib['name']\n",
    "            if parent_name == '':           \n",
    "                # The FQN of root variables does not have leading slash\n",
    "                fqn = name\n",
    "            else:\n",
    "                fqn = parent_name + '/' + name            \n",
    "            variables[fqn] = {'name': fqn, 'element': variable}\n",
    "    return variables\n",
    "\n",
    "def get_group_dimensions(element, parent_name=''):\n",
    "    dimensions = {}\n",
    "    group_elements = element.findall('Group')\n",
    "    for group_element in group_elements:\n",
    "        group_name = parent_name + '/' +  group_element.get('name')               \n",
    "        group_dimensions = get_dimensions(group_element, group_name)        \n",
    "        subgroup_dimensions = get_group_dimensions(group_element, group_name)\n",
    "        dimensions = {**dimensions, **group_dimensions, **subgroup_dimensions}\n",
    "    return dimensions\n",
    "\n",
    "def get_dimensions(element, parent_name=''):\n",
    "    dimensions = {}\n",
    "    dimensions_elements = element.findall('Dimension')\n",
    "    for dimensions_element in dimensions_elements:\n",
    "        name = dimensions_element.attrib['name']\n",
    "        if parent_name == '':           \n",
    "            # The FQN of root variables does not have leading slash\n",
    "            fqn = name\n",
    "        else:\n",
    "            fqn = parent_name + '/' + name\n",
    "        size = dimensions_element.attrib['size']\n",
    "        dimensions[fqn] = {'name': fqn, 'size': int(size)}                \n",
    "    return dimensions"
   ]
  },
  {
   "cell_type": "code",
   "execution_count": 17,
   "id": "82e7d491-df38-49ed-b9a2-e0796fc56052",
   "metadata": {
    "tags": []
   },
   "outputs": [],
   "source": [
    "group_variables = get_group_variables(dom_et)\n",
    "group_dimensions = get_group_dimensions(dom_et)\n",
    "root_variables = get_variables(dom_et, '')\n",
    "root_dimensions = get_dimensions(dom_et, '')\n",
    "dimensions = {**root_dimensions,  **group_dimensions}\n",
    "variables = {**root_variables,  **group_variables}"
   ]
  },
  {
   "cell_type": "code",
   "execution_count": 18,
   "id": "503b1847-b1bd-498f-ae57-ea7f85456476",
   "metadata": {},
   "outputs": [
    {
     "ename": "NameError",
     "evalue": "name 'get_dims' is not defined",
     "output_type": "error",
     "traceback": [
      "\u001b[0;31m---------------------------------------------------------------------------\u001b[0m",
      "\u001b[0;31mNameError\u001b[0m                                 Traceback (most recent call last)",
      "Input \u001b[0;32mIn [18]\u001b[0m, in \u001b[0;36m<cell line: 15>\u001b[0;34m()\u001b[0m\n\u001b[1;32m     18\u001b[0m variable[\u001b[38;5;124m'\u001b[39m\u001b[38;5;124mattributes\u001b[39m\u001b[38;5;124m'\u001b[39m] \u001b[38;5;241m=\u001b[39m get_attributes(variable[\u001b[38;5;124m'\u001b[39m\u001b[38;5;124melement\u001b[39m\u001b[38;5;124m'\u001b[39m])\n\u001b[1;32m     19\u001b[0m variable[\u001b[38;5;124m'\u001b[39m\u001b[38;5;124mdtype\u001b[39m\u001b[38;5;124m'\u001b[39m] \u001b[38;5;241m=\u001b[39m get_dtype(variable[\u001b[38;5;124m'\u001b[39m\u001b[38;5;124melement\u001b[39m\u001b[38;5;124m'\u001b[39m])\n\u001b[0;32m---> 20\u001b[0m variable[\u001b[38;5;124m'\u001b[39m\u001b[38;5;124mdims\u001b[39m\u001b[38;5;124m'\u001b[39m] \u001b[38;5;241m=\u001b[39m \u001b[43mget_dims\u001b[49m(variable[\u001b[38;5;124m'\u001b[39m\u001b[38;5;124melement\u001b[39m\u001b[38;5;124m'\u001b[39m])        \n\u001b[1;32m     21\u001b[0m variable[\u001b[38;5;124m'\u001b[39m\u001b[38;5;124mshape\u001b[39m\u001b[38;5;124m'\u001b[39m] \u001b[38;5;241m=\u001b[39m get_shape(dimensions, variable)\n\u001b[1;32m     22\u001b[0m data \u001b[38;5;241m=\u001b[39m DummyData(dtype\u001b[38;5;241m=\u001b[39mvariable[\u001b[38;5;124m'\u001b[39m\u001b[38;5;124mdtype\u001b[39m\u001b[38;5;124m'\u001b[39m], shape\u001b[38;5;241m=\u001b[39mvariable[\u001b[38;5;124m'\u001b[39m\u001b[38;5;124mshape\u001b[39m\u001b[38;5;124m'\u001b[39m])\n",
      "\u001b[0;31mNameError\u001b[0m: name 'get_dims' is not defined"
     ]
    }
   ],
   "source": [
    "dataset = pydap.model.DatasetType('')\n",
    "\n",
    "for dimension in dimensions.values():       \n",
    "    dimension_name = dimension['name']    \n",
    "    dimension_variable = variables[dimension_name]['element']        \n",
    "    dimension['element'] = dimension_variable\n",
    "    dimension['attributes'] = get_attributes(dimension_variable)    \n",
    "    dimension['dtype'] = get_dtype(dimension_variable)    \n",
    "        \n",
    "    dim_data = DummyData(dimension['dtype'], shape=(dimension['size'],))    \n",
    "    var = pydap.model.BaseType(dimension_name, dim_data)\n",
    "    var.attributes = dimension['attributes']\n",
    "    dataset[var.name] = var\n",
    "\n",
    "for variable in variables.values():        \n",
    "    if variable['name'] in dimensions.keys():\n",
    "        continue\n",
    "    variable['attributes'] = get_attributes(variable['element'])\n",
    "    variable['dtype'] = get_dtype(variable['element'])\n",
    "    variable['dims'] = get_dims(variable['element'])        \n",
    "    variable['shape'] = get_shape(dimensions, variable)\n",
    "    data = DummyData(dtype=variable['dtype'], shape=variable['shape'])\n",
    "    if has_map(variable['element']):        \n",
    "        var = pydap.model.GridType(name=variable['name'])\n",
    "        var[variable['name']] = pydap.model.GridType(name=variable['name'], data=data, dimensions=variable['dims'])\n",
    "        for dim in variable['dims']:\n",
    "            var[dim] = dataset[dim]\n",
    "    else:        \n",
    "        var = pydap.model.BaseType(name=variable['name'], dimensions=variable['dims'])\n",
    "    var.attributes = variable['attributes']\n",
    "    dataset[var.name] = var\n",
    "        \n",
    "#var_name = '/gt1r/bckgrd_atlas/bckgrd_int_height'\n",
    "#var_element = variables[var_name]\n",
    "#process_variable_element(var_element)\n",
    "#dataset['/gt1r/bckgrd_atlas/delta_time']\n",
    "#dimensions\n",
    "dataset"
   ]
  },
  {
   "cell_type": "code",
   "execution_count": null,
   "id": "72ea246d-669f-4ffc-a199-87539b14ee11",
   "metadata": {},
   "outputs": [],
   "source": [
    "# Sorting the variables"
   ]
  },
  {
   "cell_type": "code",
   "execution_count": null,
   "id": "27187b96-0d6d-478d-ace8-9615517e3700",
   "metadata": {},
   "outputs": [],
   "source": [
    "def get_variable_order(node, prefix=''):\n",
    "    variables = []\n",
    "    group_name = node.get('name')\n",
    "    if group_name is None:\n",
    "        return variables        \n",
    "    if node.tag != 'Dataset':        \n",
    "        prefix = prefix + '/' + group_name \n",
    "    \n",
    "    for subnode in node:                        \n",
    "        if subnode.tag in dmr_atomic_types:\n",
    "            name = subnode.get('name')\n",
    "            if prefix != '':\n",
    "                name = prefix + '/' + name            \n",
    "            variables.append(name)\n",
    "        variables += get_variable_order(subnode, prefix)\n",
    "    return variables"
   ]
  },
  {
   "cell_type": "markdown",
   "id": "202ad04d-150a-4ea8-8fe5-24e866f0586d",
   "metadata": {},
   "source": [
    "# Live"
   ]
  },
  {
   "cell_type": "code",
   "execution_count": null,
   "id": "ccdc21f5-385f-4a5a-9192-995aa0d91dee",
   "metadata": {},
   "outputs": [],
   "source": [
    "url = 'http://test.opendap.org/opendap/hyrax/data/stare/MOD05_L2.A2019336.2315.061.2019337071952.hdf.dmr'\n",
    "ret = requests.get(url)\n"
   ]
  }
 ],
 "metadata": {
  "kernelspec": {
   "display_name": "Python 3 (ipykernel)",
   "language": "python",
   "name": "python3"
  },
  "language_info": {
   "codemirror_mode": {
    "name": "ipython",
    "version": 3
   },
   "file_extension": ".py",
   "mimetype": "text/x-python",
   "name": "python",
   "nbconvert_exporter": "python",
   "pygments_lexer": "ipython3",
   "version": "3.10.4"
  }
 },
 "nbformat": 4,
 "nbformat_minor": 5
}
