{
 "cells": [
  {
   "cell_type": "code",
   "execution_count": null,
   "id": "0d588759-ce98-4e25-9265-a8cdcfec9ffa",
   "metadata": {},
   "outputs": [],
   "source": [
    "import pydap.client\n",
    "import requests\n",
    "import numpy\n",
    "import configparser"
   ]
  },
  {
   "cell_type": "markdown",
   "id": "9e5081aa-ae6b-45f8-8901-b5ddc24730ee",
   "metadata": {},
   "source": [
    "# Part 1: Parsing DMRs\n",
    "the client has the following functions to open downloaded files\n",
    "- ```open_file()```\n",
    "- ```open_dods_file()```\n",
    "- ```open_dmr_file()```\n",
    "- ```open_dap_file()```"
   ]
  },
  {
   "cell_type": "code",
   "execution_count": null,
   "id": "c2b8f032-14d8-4b84-9e47-ca5835235a7d",
   "metadata": {},
   "outputs": [],
   "source": [
    "fname = 'data/20220102090000-JPL-L4_GHRSST-SSTfnd-MUR-GLOB-v02.0-fv04.1.dmr'\n",
    "dataset = pydap.client.open_dmr_file(fname)\n",
    "dataset['sea_ice_fraction']"
   ]
  },
  {
   "cell_type": "markdown",
   "id": "95c2d257-65fc-4cb0-9294-ec976871c6c5",
   "metadata": {},
   "source": [
    "# Part 2: Loading DAP files"
   ]
  },
  {
   "cell_type": "markdown",
   "id": "d49fcccc-696e-4635-973c-f2d70218084f",
   "metadata": {},
   "source": [
    "## Example 1"
   ]
  },
  {
   "cell_type": "code",
   "execution_count": null,
   "id": "af1b07f4-4e0a-45e1-a43e-2a2469936ce8",
   "metadata": {},
   "outputs": [],
   "source": [
    "fname = 'data/20220102090000-JPL-L4_GHRSST-SSTfnd-MUR-GLOB-v02.0-fv04.1_subset.dap'\n",
    "dataset = pydap.client.open_dap_file(fname)\n",
    "dataset"
   ]
  },
  {
   "cell_type": "code",
   "execution_count": null,
   "id": "0ae05f32-e1cb-4f55-9de6-e6a81e9563ba",
   "metadata": {},
   "outputs": [],
   "source": [
    "dataset['sea_ice_fraction']"
   ]
  },
  {
   "cell_type": "code",
   "execution_count": null,
   "id": "0a137187-d863-4cdc-8f94-0c3cc0d3567b",
   "metadata": {},
   "outputs": [],
   "source": [
    "dataset['sea_ice_fraction'].attributes"
   ]
  },
  {
   "cell_type": "markdown",
   "id": "697e743d-2d9a-43ee-8c08-f684b6029d2f",
   "metadata": {},
   "source": [
    "## Example 2"
   ]
  },
  {
   "cell_type": "code",
   "execution_count": null,
   "id": "75c5cb1d-1abc-46db-92e1-5ee28d5824c2",
   "metadata": {},
   "outputs": [],
   "source": [
    "fname = 'data/coads_climatology.nc_full.dap'\n",
    "dataset = pydap.client.open_dap_file(fname)\n",
    "dataset"
   ]
  },
  {
   "cell_type": "code",
   "execution_count": null,
   "id": "f525a01f-18e0-4459-9d69-d47c2b44a177",
   "metadata": {},
   "outputs": [],
   "source": [
    "dataset['SST'].array[1, 1:10, 1:10]"
   ]
  },
  {
   "cell_type": "code",
   "execution_count": null,
   "id": "96310a95-a63a-4d8c-b303-a587f8e657fe",
   "metadata": {},
   "outputs": [],
   "source": [
    "fname = 'data/MY1DQND1.sst.ADD2005001.040.2006011070802.hdf.dap'\n",
    "pydap.client.open_dap_file(fname)"
   ]
  },
  {
   "cell_type": "markdown",
   "id": "03d1a6df-3133-4544-9c45-bc642d841b54",
   "metadata": {},
   "source": [
    "# Part 3: Accessing OPeNDAP server"
   ]
  },
  {
   "cell_type": "markdown",
   "id": "e0a681c9-7dbd-4440-9c29-dc80e0e0d04c",
   "metadata": {
    "tags": []
   },
   "source": [
    "## Example 1: Previously inaccesible through pydap\n",
    "as posted by Alberto Torres in the GH issues https://github.com/pydap/pydap/issues/226#issuecomment-1198288875\n",
    "\n",
    "The example demonstrates the ability to access\n",
    "\n",
    "- Data requiring an earthdata loging\n",
    "- Data that is served up exclusively through DAP4\n",
    "- Data containing 8, 16, 32 bit integers and 32 bit floats"
   ]
  },
  {
   "cell_type": "markdown",
   "id": "bb541c66-0244-4a7f-868b-c094cd8bc105",
   "metadata": {},
   "source": [
    "### Creating a session \n",
    "Note:\n",
    "The username and password are loaded from the file `user.config`. Edit this file accordingly or enter your credentials here directly"
   ]
  },
  {
   "cell_type": "code",
   "execution_count": null,
   "id": "e8ba73df-aa74-4534-891c-fea874597d80",
   "metadata": {},
   "outputs": [],
   "source": [
    "config = configparser.ConfigParser()\n",
    "config.read('user.config')\n",
    "username = config['user']['user']\n",
    "password = config['user']['pwd']"
   ]
  },
  {
   "cell_type": "code",
   "execution_count": null,
   "id": "ce5293ec-4d25-4f5d-800f-e3ee7c2078d9",
   "metadata": {},
   "outputs": [],
   "source": [
    "class SessionEarthData(requests.Session):\n",
    "    AUTH_HOST = 'urs.earthdata.nasa.gov'\n",
    "\n",
    "    def __init__(self, username, password):\n",
    "        super().__init__()\n",
    "        self.auth = (username, password)\n",
    "\n",
    "    def rebuild_auth(self, prepared_request, response):\n",
    "        headers = prepared_request.headers\n",
    "        url = prepared_request.url\n",
    "        if 'Authorization' in headers:\n",
    "            original_parsed = requests.utils.urlparse(response.request.url)\n",
    "            redirect_parsed = requests.utils.urlparse(url)\n",
    "            if (original_parsed.hostname != redirect_parsed.hostname) and \\\n",
    "                    redirect_parsed.hostname != self.AUTH_HOST and \\\n",
    "                    original_parsed.hostname != self.AUTH_HOST:\n",
    "                del headers['Authorization']\n",
    "        return\n",
    "\n",
    "session = SessionEarthData(username=username, password=password)"
   ]
  },
  {
   "cell_type": "markdown",
   "id": "b5c2ac9e-6190-4b4f-85b6-d7830f897ff6",
   "metadata": {},
   "source": [
    "### Opening the dataset URL to build a dataset\n",
    "- ```pydap.client.open_url()``` downloads DMR, pareses it, and builds a dataset from it. I.e. interpreting :\n",
    "    - data types including endianess\n",
    "    - shapes\n",
    "    - hierarchy (groups)\n",
    "    - relations (maps) of variables and dimensions\n",
    "    - variable attributes\n",
    "- No data is downloaded; rather, 'DummyData' of the according type and shpae is inserted into the dataset\n",
    "- Using the dap 4 protocol is specified using either\n",
    "    - Using the schema 'dap4://' in the url (canonical)\n",
    "    - Specifing the 'schema' kwarg in the function call: ```pydap.client.open_url(url, protocol='dap4', **kwargs)```."
   ]
  },
  {
   "cell_type": "code",
   "execution_count": null,
   "id": "0a15e9e0-880d-43c6-b90b-f4ec96651579",
   "metadata": {},
   "outputs": [],
   "source": [
    "dap2_schema = 'http'\n",
    "dap4_schema = 'dap4'\n",
    "\n",
    "host = 'opendap.earthdata.nasa.gov'\n",
    "path = '/collections/C1996881146-POCLOUD/granules/'\n",
    "dataset = '20220531090000-JPL-L4_GHRSST-SSTfnd-MUR-GLOB-v02.0-fv04.1'\n",
    "\n",
    "dap2_url = f'{dap2_schema}://{host}{path}{dataset}'\n",
    "dap4_url = f'{dap4_schema}://{host}{path}{dataset}'\n",
    "dap4_url"
   ]
  },
  {
   "cell_type": "markdown",
   "id": "e8e97bed-9dd8-4cc0-be74-64424053fde0",
   "metadata": {
    "tags": []
   },
   "source": [
    "#### Accessing with DAP2 \n",
    "We first demnonstrate that accessing the dataset via dap2 fails:"
   ]
  },
  {
   "cell_type": "code",
   "execution_count": null,
   "id": "04ad37a4-ec58-4590-950d-56e4e254c6b7",
   "metadata": {
    "tags": []
   },
   "outputs": [],
   "source": [
    "# pydap.client.open_url(dap2_url, session=session)"
   ]
  },
  {
   "cell_type": "markdown",
   "id": "b4664a27-472d-416d-8483-8007f2e06e03",
   "metadata": {},
   "source": [
    "#### Accessing via DAP4"
   ]
  },
  {
   "cell_type": "code",
   "execution_count": null,
   "id": "85004ef2-6794-4c69-8a5d-34e05f0e6eb6",
   "metadata": {
    "tags": []
   },
   "outputs": [],
   "source": [
    "pydap_ds = pydap.client.open_url(dap4_url, session=session)\n",
    "#pydap_ds = pydap.client.open_url(dap2_url, session=session, protocol='dap4')\n",
    "pydap_ds"
   ]
  },
  {
   "cell_type": "markdown",
   "id": "e5f615c9-eae6-48bb-9c9f-9c662cd78e1f",
   "metadata": {},
   "source": [
    "#### Inspecting the dataset"
   ]
  },
  {
   "cell_type": "code",
   "execution_count": null,
   "id": "535b77f3-b9bd-4d65-9d04-372182816c95",
   "metadata": {
    "tags": []
   },
   "outputs": [],
   "source": [
    "pydap_ds._dict"
   ]
  },
  {
   "cell_type": "markdown",
   "id": "2d91f1fe-a35d-4a59-b232-d2ebedae425a",
   "metadata": {},
   "source": [
    "### Accessing the data\n",
    "We can access the variables attributes. Note that the checksum is part of the data response, not the DMR. "
   ]
  },
  {
   "cell_type": "code",
   "execution_count": null,
   "id": "db1b58d7-2d82-4d58-99f7-c59d73697b66",
   "metadata": {
    "tags": []
   },
   "outputs": [],
   "source": [
    "pydap_ds['sea_ice_fraction'].attributes"
   ]
  },
  {
   "cell_type": "markdown",
   "id": "65f5b93a-aa5b-4919-a9d5-5c9d12f7328e",
   "metadata": {},
   "source": [
    "#### Lazy subsetting\n",
    "- pydap uses numpy-stype fancy indexing; i.e ```[start:stop:step]```\n",
    "- opendap uses fancy indexing of following style ```[start:step:stop]```\n",
    "- pydap translates between those styles"
   ]
  },
  {
   "cell_type": "code",
   "execution_count": null,
   "id": "19ffaefa-f437-4181-996b-87e62d9b1b07",
   "metadata": {},
   "outputs": [],
   "source": [
    "variable = pydap_ds['sea_ice_fraction'][0, 1700:1799:10, 1800:1900:10]"
   ]
  },
  {
   "cell_type": "code",
   "execution_count": null,
   "id": "84ec0d06-74fc-4014-a057-520bab60b5bd",
   "metadata": {},
   "outputs": [],
   "source": [
    "variable.data"
   ]
  },
  {
   "cell_type": "markdown",
   "id": "2a36e819-0733-48b8-90c9-da720573e1be",
   "metadata": {},
   "source": [
    "After accessing the data, the variables attributes now contain the checksum"
   ]
  },
  {
   "cell_type": "code",
   "execution_count": null,
   "id": "aa8575e5-4ecd-4a34-9cba-58e691f2c643",
   "metadata": {},
   "outputs": [],
   "source": [
    "variable.attributes"
   ]
  },
  {
   "cell_type": "markdown",
   "id": "773d3dbf-0332-493f-ab6c-5f11ca36826d",
   "metadata": {},
   "source": [
    "#### Masking values"
   ]
  },
  {
   "cell_type": "code",
   "execution_count": null,
   "id": "45fc4276-4d3f-4ac4-9f68-2418452a3096",
   "metadata": {},
   "outputs": [],
   "source": [
    "fill_value = int(variable.attributes['_FillValue'])\n",
    "mask = (variable.data==fill_value)\n",
    "numpy.ma.array(variable.data, mask=mask)"
   ]
  },
  {
   "cell_type": "markdown",
   "id": "3f830d56-84fb-445f-b276-7997dc0cfa0d",
   "metadata": {},
   "source": [
    "## Example 2: Groups and 64 bit floats\n",
    "- Dataset containing groups\n",
    "- Dataset containing 64 bit floats "
   ]
  },
  {
   "cell_type": "code",
   "execution_count": null,
   "id": "b9a1f203-2810-415d-bbfe-9defbf95ae01",
   "metadata": {},
   "outputs": [],
   "source": [
    "dap2_schema = 'http'\n",
    "dap4_schema = 'dap4'\n",
    "\n",
    "host = 'test.opendap.org:8080'\n",
    "path = '/opendap/dmrpp_test_files/'\n",
    "dataset = 'ATL03_20181228015957_13810110_003_01.2var.h5.dmrpp'\n",
    "\n",
    "dap2_url = f'{dap2_schema}://{host}{path}{dataset}'\n",
    "dap4_url = f'{dap4_schema}://{host}{path}{dataset}'"
   ]
  },
  {
   "cell_type": "markdown",
   "id": "f2f7588a-4b09-4c3f-b1b6-2c6241e17471",
   "metadata": {},
   "source": [
    "### DAP2"
   ]
  },
  {
   "cell_type": "code",
   "execution_count": null,
   "id": "26a35156-105c-403b-95ab-6449776c4d72",
   "metadata": {},
   "outputs": [],
   "source": [
    "ds_dap2 = pydap.client.open_url(dap2_url)\n",
    "ds_dap2"
   ]
  },
  {
   "cell_type": "code",
   "execution_count": null,
   "id": "c7923848-6ba6-4544-9840-c46e5b01f6c4",
   "metadata": {},
   "outputs": [],
   "source": [
    "ds_dap2._dict"
   ]
  },
  {
   "cell_type": "code",
   "execution_count": null,
   "id": "e9715be8-4040-4929-839d-0460cbf8a0f5",
   "metadata": {},
   "outputs": [],
   "source": [
    "ds_dap2['/gt1r/bckgrd_atlas/delta_time']"
   ]
  },
  {
   "cell_type": "code",
   "execution_count": null,
   "id": "d64feb0f-cc4a-4311-8430-2b504c24bc89",
   "metadata": {},
   "outputs": [],
   "source": [
    "ds_dap2['/gt1r/bckgrd_atlas/delta_time'][0:10].data"
   ]
  },
  {
   "cell_type": "markdown",
   "id": "78e28f7a-48db-4161-bf2c-6b6ce4d4058b",
   "metadata": {
    "tags": []
   },
   "source": [
    "### DAP4"
   ]
  },
  {
   "cell_type": "code",
   "execution_count": null,
   "id": "309d2ffd-1165-409b-bafe-9e909627f103",
   "metadata": {},
   "outputs": [],
   "source": [
    "ds_dap4 = pydap.client.open_url(dap4_url)\n",
    "ds_dap4"
   ]
  },
  {
   "cell_type": "code",
   "execution_count": null,
   "id": "b96214a6-3731-4649-9f25-a6465da42b60",
   "metadata": {},
   "outputs": [],
   "source": [
    "ds_dap4._dict"
   ]
  },
  {
   "cell_type": "code",
   "execution_count": null,
   "id": "f21cf694-b910-41b7-8edb-8b30053708a2",
   "metadata": {},
   "outputs": [],
   "source": [
    "data = ds_dap4['/gt1r/bckgrd_atlas/delta_time'][0:20]\n",
    "data"
   ]
  },
  {
   "cell_type": "code",
   "execution_count": null,
   "id": "d88410f9-fa2d-4345-b89e-42c6baeb0263",
   "metadata": {},
   "outputs": [],
   "source": [
    "data.attributes"
   ]
  },
  {
   "cell_type": "markdown",
   "id": "5ed3cb71-927b-43be-8cb9-d8282170edd9",
   "metadata": {},
   "source": [
    "## Example 3: Maps/Grids"
   ]
  },
  {
   "cell_type": "code",
   "execution_count": null,
   "id": "802968dc-43da-4ee9-8082-6345724c32d9",
   "metadata": {},
   "outputs": [],
   "source": [
    "dap2_schema = 'http'\n",
    "dap4_schema = 'dap4'\n",
    "\n",
    "host = 'opendap.earthdata.nasa.gov'\n",
    "path = '/hyrax/data/nc/'\n",
    "dataset = 'coads_climatology.nc'\n",
    "\n",
    "dap2_url = f'{dap2_schema}://{host}{path}{dataset}'\n",
    "dap4_url = f'{dap4_schema}://{host}{path}{dataset}'"
   ]
  },
  {
   "cell_type": "code",
   "execution_count": null,
   "id": "29cc25ff-1291-4ebb-9fc9-852415e2759f",
   "metadata": {},
   "outputs": [],
   "source": [
    "ds_dap2 = pydap.client.open_url(dap2_url, session=session)\n",
    "ds_dap4 = pydap.client.open_url(dap4_url, session=session)"
   ]
  },
  {
   "cell_type": "code",
   "execution_count": null,
   "id": "45d59935-f243-47c0-9aec-cbeab830812e",
   "metadata": {},
   "outputs": [],
   "source": [
    "data_dap2 = ds_dap2['SST'][0:1:1, 40:42:1, 0:20:2]"
   ]
  },
  {
   "cell_type": "code",
   "execution_count": null,
   "id": "b5208854-08a2-4c88-ba91-b2ca1c47184a",
   "metadata": {},
   "outputs": [],
   "source": [
    "data_dap2.data"
   ]
  },
  {
   "cell_type": "code",
   "execution_count": null,
   "id": "7ad1b31e-889a-48ce-84ea-c463bf1cfb40",
   "metadata": {},
   "outputs": [],
   "source": [
    "data_dap4 = ds_dap4['SST'][0:1:1, 40:42:1, 0:20:2]"
   ]
  },
  {
   "cell_type": "code",
   "execution_count": null,
   "id": "481c432c-f099-45a5-9f12-e2fa7fa6c4c4",
   "metadata": {},
   "outputs": [],
   "source": [
    "data_dap4.data[:]"
   ]
  },
  {
   "cell_type": "markdown",
   "id": "e233663a-20f4-4159-b720-f9952ad28190",
   "metadata": {},
   "source": [
    "## Example 4 MOD05"
   ]
  },
  {
   "cell_type": "code",
   "execution_count": null,
   "id": "12b90271-11fb-4135-9284-295b457f553d",
   "metadata": {},
   "outputs": [],
   "source": [
    "url = 'dap4://test.opendap.org/opendap/hyrax/data/stare/MOD05_L2.A2019336.2315.061.2019337071952.hdf'"
   ]
  },
  {
   "cell_type": "code",
   "execution_count": null,
   "id": "1d49677c-1ecc-49e1-a6f5-df3d75540101",
   "metadata": {},
   "outputs": [],
   "source": [
    "ds = pydap.client.open_url(url)"
   ]
  },
  {
   "cell_type": "code",
   "execution_count": null,
   "id": "33004dbe-cbbe-4d2b-b9d3-cc1889d7e88d",
   "metadata": {},
   "outputs": [],
   "source": [
    "ds['Water_Vapor_Infrared']"
   ]
  },
  {
   "cell_type": "markdown",
   "id": "d067e5ed-f766-42c2-b9c8-a1b281eb4c41",
   "metadata": {},
   "source": [
    "## Example 5 MY1DQND"
   ]
  },
  {
   "cell_type": "code",
   "execution_count": null,
   "id": "97ed0be8-2a76-409f-9676-22ef48ec01ab",
   "metadata": {},
   "outputs": [],
   "source": [
    "url = 'http://test.opendap.org/opendap/MODIS/MOOA/MY1DQN.004/2004.12.31/MY1DQND1.sst.ADD2005001.040.2006011070802.hdf'"
   ]
  },
  {
   "cell_type": "code",
   "execution_count": null,
   "id": "7ab4ceed-f9c1-4572-970a-63f90de541f2",
   "metadata": {},
   "outputs": [],
   "source": [
    "ds = pydap.client.open_url(url)"
   ]
  },
  {
   "cell_type": "code",
   "execution_count": null,
   "id": "df634688-a69a-4bfa-b656-87a6f36e676f",
   "metadata": {},
   "outputs": [],
   "source": [
    "ds['sst_qual_b']"
   ]
  },
  {
   "cell_type": "code",
   "execution_count": null,
   "id": "9366f948-a49f-4b4c-96cc-3692230bb2b2",
   "metadata": {},
   "outputs": [],
   "source": []
  },
  {
   "cell_type": "code",
   "execution_count": null,
   "id": "a1599ca6-6de9-4b47-a994-c1cff1951645",
   "metadata": {},
   "outputs": [],
   "source": []
  }
 ],
 "metadata": {
  "kernelspec": {
   "display_name": "Python 3 (ipykernel)",
   "language": "python",
   "name": "python3"
  },
  "language_info": {
   "codemirror_mode": {
    "name": "ipython",
    "version": 3
   },
   "file_extension": ".py",
   "mimetype": "text/x-python",
   "name": "python",
   "nbconvert_exporter": "python",
   "pygments_lexer": "ipython3",
   "version": "3.10.4"
  }
 },
 "nbformat": 4,
 "nbformat_minor": 5
}
