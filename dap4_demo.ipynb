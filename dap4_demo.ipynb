{
 "cells": [
  {
   "cell_type": "code",
   "execution_count": null,
   "id": "0d588759-ce98-4e25-9265-a8cdcfec9ffa",
   "metadata": {},
   "outputs": [],
   "source": [
    "import pydap.client\n",
    "import requests\n",
    "import numpy\n",
    "import configparser"
   ]
  },
  {
   "cell_type": "markdown",
   "id": "9e5081aa-ae6b-45f8-8901-b5ddc24730ee",
   "metadata": {},
   "source": [
    "# Part 1: Parsing DMRs\n",
    "the client has the following functions to open downloaded files\n",
    "- ```open_file()```\n",
    "- ```open_dods_file()```\n",
    "- ```open_dmr_file()```\n",
    "- ```open_dap_file()```"
   ]
  },
  {
   "cell_type": "code",
   "execution_count": 5,
   "id": "c2b8f032-14d8-4b84-9e47-ca5835235a7d",
   "metadata": {},
   "outputs": [
    {
     "data": {
      "text/plain": [
       "<BaseType with data <pydap.parsers.dmr.DummyData object at 0x7fb6b0488550>>"
      ]
     },
     "execution_count": 5,
     "metadata": {},
     "output_type": "execute_result"
    }
   ],
   "source": [
    "fname = 'data/20220102090000-JPL-L4_GHRSST-SSTfnd-MUR-GLOB-v02.0-fv04.1.dmr'\n",
    "dataset = pydap.client.open_dmr_file(fname)\n",
    "dataset['sea_ice_fraction']"
   ]
  },
  {
   "cell_type": "markdown",
   "id": "95c2d257-65fc-4cb0-9294-ec976871c6c5",
   "metadata": {},
   "source": [
    "# Part 2: Loading dap and DMR files"
   ]
  },
  {
   "cell_type": "markdown",
   "id": "d49fcccc-696e-4635-973c-f2d70218084f",
   "metadata": {},
   "source": [
    "## Example 1"
   ]
  },
  {
   "cell_type": "code",
   "execution_count": 2,
   "id": "af1b07f4-4e0a-45e1-a43e-2a2469936ce8",
   "metadata": {},
   "outputs": [
    {
     "data": {
      "text/plain": [
       "<DatasetType with children 'sea_ice_fraction'>"
      ]
     },
     "execution_count": 2,
     "metadata": {},
     "output_type": "execute_result"
    }
   ],
   "source": [
    "fname = 'data/20220102090000-JPL-L4_GHRSST-SSTfnd-MUR-GLOB-v02.0-fv04.1_subset.dap'\n",
    "dataset = pydap.client.open_dap_file(fname)\n",
    "dataset"
   ]
  },
  {
   "cell_type": "code",
   "execution_count": 3,
   "id": "0ae05f32-e1cb-4f55-9de6-e6a81e9563ba",
   "metadata": {},
   "outputs": [
    {
     "data": {
      "text/plain": [
       "<BaseType with data array([[[ 98,  98],\n",
       "        [ 98,  98],\n",
       "        [ 98,  98],\n",
       "        ...,\n",
       "        [100, 100],\n",
       "        [100, 100],\n",
       "        [100, 100]]], dtype=int8)>"
      ]
     },
     "execution_count": 3,
     "metadata": {},
     "output_type": "execute_result"
    }
   ],
   "source": [
    "dataset['sea_ice_fraction']"
   ]
  },
  {
   "cell_type": "code",
   "execution_count": 4,
   "id": "0a137187-d863-4cdc-8f94-0c3cc0d3567b",
   "metadata": {},
   "outputs": [
    {
     "data": {
      "text/plain": [
       "{'long_name': 'sea ice area fraction',\n",
       " 'standard_name': 'sea_ice_area_fraction',\n",
       " '_FillValue': '-128',\n",
       " 'add_offset': '0.',\n",
       " 'scale_factor': '0.01',\n",
       " 'valid_min': '0',\n",
       " 'valid_max': '100',\n",
       " 'source': 'EUMETSAT OSI-SAF, copyright EUMETSAT',\n",
       " 'comment': 'ice fraction is a dimensionless quantity between 0 and 1; it has been interpolated by a nearest neighbor approach.',\n",
       " 'coordinates': 'lon lat',\n",
       " 'checksum': array([3847985684], dtype=uint32)}"
      ]
     },
     "execution_count": 4,
     "metadata": {},
     "output_type": "execute_result"
    }
   ],
   "source": [
    "dataset['sea_ice_fraction'].attributes"
   ]
  },
  {
   "cell_type": "markdown",
   "id": "697e743d-2d9a-43ee-8c08-f684b6029d2f",
   "metadata": {},
   "source": [
    "## Example 2"
   ]
  },
  {
   "cell_type": "code",
   "execution_count": 5,
   "id": "75c5cb1d-1abc-46db-92e1-5ee28d5824c2",
   "metadata": {},
   "outputs": [
    {
     "data": {
      "text/plain": [
       "<DatasetType with children 'COADSX', 'COADSY', 'TIME', 'SST', 'AIRT', 'UWND', 'VWND'>"
      ]
     },
     "execution_count": 5,
     "metadata": {},
     "output_type": "execute_result"
    }
   ],
   "source": [
    "fname = 'data/coads_climatology.nc_full.dap'\n",
    "dataset = pydap.client.open_dap_file(fname)\n",
    "dataset"
   ]
  },
  {
   "cell_type": "code",
   "execution_count": 6,
   "id": "f525a01f-18e0-4459-9d69-d47c2b44a177",
   "metadata": {},
   "outputs": [
    {
     "data": {
      "text/plain": [
       "<BaseType with data array([[-1.e+34, -1.e+34, -1.e+34, -1.e+34, -1.e+34, -1.e+34, -1.e+34,\n",
       "        -1.e+34, -1.e+34],\n",
       "       [-1.e+34, -1.e+34, -1.e+34, -1.e+34, -1.e+34, -1.e+34, -1.e+34,\n",
       "        -1.e+34, -1.e+34],\n",
       "       [-1.e+34, -1.e+34, -1.e+34, -1.e+34, -1.e+34, -1.e+34, -1.e+34,\n",
       "        -1.e+34, -1.e+34],\n",
       "       [-1.e+34, -1.e+34, -1.e+34, -1.e+34, -1.e+34, -1.e+34, -1.e+34,\n",
       "        -1.e+34, -1.e+34],\n",
       "       [-1.e+34, -1.e+34, -1.e+34, -1.e+34, -1.e+34, -1.e+34, -1.e+34,\n",
       "        -1.e+34, -1.e+34],\n",
       "       [-1.e+34, -1.e+34, -1.e+34, -1.e+34, -1.e+34, -1.e+34, -1.e+34,\n",
       "        -1.e+34, -1.e+34],\n",
       "       [-1.e+34, -1.e+34, -1.e+34, -1.e+34, -1.e+34, -1.e+34, -1.e+34,\n",
       "        -1.e+34, -1.e+34],\n",
       "       [-1.e+34, -1.e+34, -1.e+34, -1.e+34, -1.e+34, -1.e+34, -1.e+34,\n",
       "        -1.e+34, -1.e+34],\n",
       "       [-1.e+34, -1.e+34, -1.e+34, -1.e+34, -1.e+34, -1.e+34, -1.e+34,\n",
       "        -1.e+34, -1.e+34]], dtype=float32)>"
      ]
     },
     "execution_count": 6,
     "metadata": {},
     "output_type": "execute_result"
    }
   ],
   "source": [
    "dataset['SST'].array[1, 1:10, 1:10]"
   ]
  },
  {
   "cell_type": "code",
   "execution_count": 4,
   "id": "96310a95-a63a-4d8c-b303-a587f8e657fe",
   "metadata": {},
   "outputs": [
    {
     "data": {
      "text/plain": [
       "<DatasetType with children 'sst_qual_b', 'Number_of_records', 'Number_of_samples_per_record', 'Latitude', 'Longitude'>"
      ]
     },
     "execution_count": 4,
     "metadata": {},
     "output_type": "execute_result"
    }
   ],
   "source": [
    "fname = 'data/MY1DQND1.sst.ADD2005001.040.2006011070802.hdf.dap'\n",
    "pydap.client.open_dap_file(fname)"
   ]
  },
  {
   "cell_type": "markdown",
   "id": "03d1a6df-3133-4544-9c45-bc642d841b54",
   "metadata": {},
   "source": [
    "# Part 3: Accessing OPeNDAP server"
   ]
  },
  {
   "cell_type": "markdown",
   "id": "e0a681c9-7dbd-4440-9c29-dc80e0e0d04c",
   "metadata": {
    "tags": []
   },
   "source": [
    "## Example 1: Previously inaccesible through pydap\n",
    "as posted by Alberto Torres in the GH issues https://github.com/pydap/pydap/issues/226#issuecomment-1198288875\n",
    "\n",
    "The example demonstrates the ability to access\n",
    "\n",
    "- Data requiring an earthdata loging\n",
    "- Data that is served up exclusively through DAP4\n",
    "- Data containing 8, 16, 32 bit integers and 32 bit floats"
   ]
  },
  {
   "cell_type": "markdown",
   "id": "bb541c66-0244-4a7f-868b-c094cd8bc105",
   "metadata": {},
   "source": [
    "### Creating a session \n",
    "Note:\n",
    "The username and password are loaded from the file `user.config`. Edit this file accordingly or enter your credentials here directly"
   ]
  },
  {
   "cell_type": "code",
   "execution_count": 7,
   "id": "e8ba73df-aa74-4534-891c-fea874597d80",
   "metadata": {},
   "outputs": [],
   "source": [
    "config = configparser.ConfigParser()\n",
    "config.read('user.config')\n",
    "username = config['user']['user']\n",
    "password = config['user']['pwd']"
   ]
  },
  {
   "cell_type": "code",
   "execution_count": 8,
   "id": "ce5293ec-4d25-4f5d-800f-e3ee7c2078d9",
   "metadata": {},
   "outputs": [],
   "source": [
    "class SessionEarthData(requests.Session):\n",
    "    AUTH_HOST = 'urs.earthdata.nasa.gov'\n",
    "\n",
    "    def __init__(self, username, password):\n",
    "        super().__init__()\n",
    "        self.auth = (username, password)\n",
    "\n",
    "    def rebuild_auth(self, prepared_request, response):\n",
    "        headers = prepared_request.headers\n",
    "        url = prepared_request.url\n",
    "        if 'Authorization' in headers:\n",
    "            original_parsed = requests.utils.urlparse(response.request.url)\n",
    "            redirect_parsed = requests.utils.urlparse(url)\n",
    "            if (original_parsed.hostname != redirect_parsed.hostname) and \\\n",
    "                    redirect_parsed.hostname != self.AUTH_HOST and \\\n",
    "                    original_parsed.hostname != self.AUTH_HOST:\n",
    "                del headers['Authorization']\n",
    "        return\n",
    "\n",
    "session = SessionEarthData(username=username, password=password)"
   ]
  },
  {
   "cell_type": "markdown",
   "id": "b5c2ac9e-6190-4b4f-85b6-d7830f897ff6",
   "metadata": {},
   "source": [
    "### Opening the dataset URL to build a dataset\n",
    "- ```pydap.client.open_url()``` downloads DMR, pareses it, and builds a dataset from it. I.e. interpreting :\n",
    "    - data types including endianess\n",
    "    - shapes\n",
    "    - hierarchy (groups)\n",
    "    - relations (maps) of variables and dimensions\n",
    "    - variable attributes\n",
    "- No data is downloaded; rather, 'DummyData' of the according type and shpae is inserted into the dataset\n",
    "- Using the dap 4 protocol is specified using either\n",
    "    - Using the schema 'dap4://' in the url (canonical)\n",
    "    - Specifing the 'schema' kwarg in the function call: ```pydap.client.open_url(url, protocol='dap4', **kwargs)```."
   ]
  },
  {
   "cell_type": "code",
   "execution_count": 9,
   "id": "0a15e9e0-880d-43c6-b90b-f4ec96651579",
   "metadata": {},
   "outputs": [
    {
     "data": {
      "text/plain": [
       "'dap4://opendap.earthdata.nasa.gov/collections/C1996881146-POCLOUD/granules/20220531090000-JPL-L4_GHRSST-SSTfnd-MUR-GLOB-v02.0-fv04.1'"
      ]
     },
     "execution_count": 9,
     "metadata": {},
     "output_type": "execute_result"
    }
   ],
   "source": [
    "dap2_schema = 'http'\n",
    "dap4_schema = 'dap4'\n",
    "\n",
    "host = 'opendap.earthdata.nasa.gov'\n",
    "path = '/collections/C1996881146-POCLOUD/granules/'\n",
    "dataset = '20220531090000-JPL-L4_GHRSST-SSTfnd-MUR-GLOB-v02.0-fv04.1'\n",
    "\n",
    "dap2_url = f'{dap2_schema}://{host}{path}{dataset}'\n",
    "dap4_url = f'{dap4_schema}://{host}{path}{dataset}'\n",
    "dap4_url"
   ]
  },
  {
   "cell_type": "markdown",
   "id": "e8e97bed-9dd8-4cc0-be74-64424053fde0",
   "metadata": {
    "tags": []
   },
   "source": [
    "#### Accessing with DAP2 \n",
    "We first demnonstrate that accessing the dataset via dap2 fails:"
   ]
  },
  {
   "cell_type": "code",
   "execution_count": 10,
   "id": "04ad37a4-ec58-4590-950d-56e4e254c6b7",
   "metadata": {
    "collapsed": true,
    "jupyter": {
     "outputs_hidden": true
    },
    "tags": []
   },
   "outputs": [
    {
     "ename": "KeyError",
     "evalue": "'int8'",
     "output_type": "error",
     "traceback": [
      "\u001b[0;31m---------------------------------------------------------------------------\u001b[0m",
      "\u001b[0;31mKeyError\u001b[0m                                  Traceback (most recent call last)",
      "Input \u001b[0;32mIn [10]\u001b[0m, in \u001b[0;36m<cell line: 1>\u001b[0;34m()\u001b[0m\n\u001b[0;32m----> 1\u001b[0m \u001b[43mpydap\u001b[49m\u001b[38;5;241;43m.\u001b[39;49m\u001b[43mclient\u001b[49m\u001b[38;5;241;43m.\u001b[39;49m\u001b[43mopen_url\u001b[49m\u001b[43m(\u001b[49m\u001b[43mdap2_url\u001b[49m\u001b[43m,\u001b[49m\u001b[43m \u001b[49m\u001b[43msession\u001b[49m\u001b[38;5;241;43m=\u001b[39;49m\u001b[43msession\u001b[49m\u001b[43m)\u001b[49m\n",
      "File \u001b[0;32m~/Dropbox/UCSB/pydap_cpt/pydap/src/pydap/client.py:68\u001b[0m, in \u001b[0;36mopen_url\u001b[0;34m(url, application, session, output_grid, timeout, verify, user_charset, protocol)\u001b[0m\n\u001b[1;32m     60\u001b[0m \u001b[38;5;28;01mdef\u001b[39;00m \u001b[38;5;21mopen_url\u001b[39m(url, application\u001b[38;5;241m=\u001b[39m\u001b[38;5;28;01mNone\u001b[39;00m, session\u001b[38;5;241m=\u001b[39m\u001b[38;5;28;01mNone\u001b[39;00m, output_grid\u001b[38;5;241m=\u001b[39m\u001b[38;5;28;01mTrue\u001b[39;00m,\n\u001b[1;32m     61\u001b[0m              timeout\u001b[38;5;241m=\u001b[39mpydap\u001b[38;5;241m.\u001b[39mlib\u001b[38;5;241m.\u001b[39mDEFAULT_TIMEOUT, verify\u001b[38;5;241m=\u001b[39m\u001b[38;5;28;01mTrue\u001b[39;00m, user_charset\u001b[38;5;241m=\u001b[39m\u001b[38;5;124m'\u001b[39m\u001b[38;5;124mascii\u001b[39m\u001b[38;5;124m'\u001b[39m, protocol\u001b[38;5;241m=\u001b[39m\u001b[38;5;28;01mNone\u001b[39;00m):\n\u001b[1;32m     62\u001b[0m     \u001b[38;5;124;03m\"\"\"\u001b[39;00m\n\u001b[1;32m     63\u001b[0m \u001b[38;5;124;03m    Open a remote URL, returning a dataset.\u001b[39;00m\n\u001b[1;32m     64\u001b[0m \n\u001b[1;32m     65\u001b[0m \u001b[38;5;124;03m    set output_grid to `False` to retrieve only main arrays and\u001b[39;00m\n\u001b[1;32m     66\u001b[0m \u001b[38;5;124;03m    never retrieve coordinate axes.\u001b[39;00m\n\u001b[1;32m     67\u001b[0m \u001b[38;5;124;03m    \"\"\"\u001b[39;00m\n\u001b[0;32m---> 68\u001b[0m     handler \u001b[38;5;241m=\u001b[39m \u001b[43mpydap\u001b[49m\u001b[38;5;241;43m.\u001b[39;49m\u001b[43mhandlers\u001b[49m\u001b[38;5;241;43m.\u001b[39;49m\u001b[43mdap\u001b[49m\u001b[38;5;241;43m.\u001b[39;49m\u001b[43mDAPHandler\u001b[49m\u001b[43m(\u001b[49m\u001b[43murl\u001b[49m\u001b[43m,\u001b[49m\u001b[43m \u001b[49m\u001b[43mapplication\u001b[49m\u001b[43m,\u001b[49m\u001b[43m \u001b[49m\u001b[43msession\u001b[49m\u001b[43m,\u001b[49m\u001b[43m \u001b[49m\u001b[43moutput_grid\u001b[49m\u001b[43m,\u001b[49m\n\u001b[1;32m     69\u001b[0m \u001b[43m                                            \u001b[49m\u001b[43mtimeout\u001b[49m\u001b[38;5;241;43m=\u001b[39;49m\u001b[43mtimeout\u001b[49m\u001b[43m,\u001b[49m\u001b[43m \u001b[49m\u001b[43mverify\u001b[49m\u001b[38;5;241;43m=\u001b[39;49m\u001b[43mverify\u001b[49m\u001b[43m,\u001b[49m\n\u001b[1;32m     70\u001b[0m \u001b[43m                                            \u001b[49m\u001b[43muser_charset\u001b[49m\u001b[38;5;241;43m=\u001b[39;49m\u001b[43muser_charset\u001b[49m\u001b[43m,\u001b[49m\u001b[43m \u001b[49m\u001b[43mprotocol\u001b[49m\u001b[38;5;241;43m=\u001b[39;49m\u001b[43mprotocol\u001b[49m\u001b[43m)\u001b[49m\n\u001b[1;32m     71\u001b[0m     dataset \u001b[38;5;241m=\u001b[39m handler\u001b[38;5;241m.\u001b[39mdataset\n\u001b[1;32m     73\u001b[0m     \u001b[38;5;66;03m# attach server-side functions\u001b[39;00m\n",
      "File \u001b[0;32m~/Dropbox/UCSB/pydap_cpt/pydap/src/pydap/handlers/dap.py:71\u001b[0m, in \u001b[0;36mDAPHandler.__init__\u001b[0;34m(self, url, application, session, output_grid, timeout, verify, user_charset, protocol)\u001b[0m\n\u001b[1;32m     69\u001b[0m arg \u001b[38;5;241m=\u001b[39m (\u001b[38;5;28mself\u001b[39m\u001b[38;5;241m.\u001b[39mscheme, \u001b[38;5;28mself\u001b[39m\u001b[38;5;241m.\u001b[39mnetloc, \u001b[38;5;28mself\u001b[39m\u001b[38;5;241m.\u001b[39mpath, \u001b[38;5;124m'\u001b[39m\u001b[38;5;124m&\u001b[39m\u001b[38;5;124m'\u001b[39m\u001b[38;5;241m.\u001b[39mjoin(\u001b[38;5;28mself\u001b[39m\u001b[38;5;241m.\u001b[39mselection), \u001b[38;5;28mself\u001b[39m\u001b[38;5;241m.\u001b[39mfragment)\n\u001b[1;32m     70\u001b[0m \u001b[38;5;28mself\u001b[39m\u001b[38;5;241m.\u001b[39mbase_url \u001b[38;5;241m=\u001b[39m six\u001b[38;5;241m.\u001b[39mmoves\u001b[38;5;241m.\u001b[39murllib\u001b[38;5;241m.\u001b[39mparse\u001b[38;5;241m.\u001b[39murlunsplit(arg)\n\u001b[0;32m---> 71\u001b[0m \u001b[38;5;28;43mself\u001b[39;49m\u001b[38;5;241;43m.\u001b[39;49m\u001b[43mmake_dataset\u001b[49m\u001b[43m(\u001b[49m\u001b[43m)\u001b[49m\n\u001b[1;32m     72\u001b[0m \u001b[38;5;28mself\u001b[39m\u001b[38;5;241m.\u001b[39madd_proxies()\n",
      "File \u001b[0;32m~/Dropbox/UCSB/pydap_cpt/pydap/src/pydap/handlers/dap.py:96\u001b[0m, in \u001b[0;36mDAPHandler.make_dataset\u001b[0;34m(self)\u001b[0m\n\u001b[1;32m     94\u001b[0m     \u001b[38;5;28mself\u001b[39m\u001b[38;5;241m.\u001b[39mdataset_from_dap4()\n\u001b[1;32m     95\u001b[0m \u001b[38;5;28;01melse\u001b[39;00m:\n\u001b[0;32m---> 96\u001b[0m     \u001b[38;5;28;43mself\u001b[39;49m\u001b[38;5;241;43m.\u001b[39;49m\u001b[43mdataset_from_dap2\u001b[49m\u001b[43m(\u001b[49m\u001b[43m)\u001b[49m\n\u001b[1;32m     97\u001b[0m \u001b[38;5;28mself\u001b[39m\u001b[38;5;241m.\u001b[39mattach_das()\n",
      "File \u001b[0;32m~/Dropbox/UCSB/pydap_cpt/pydap/src/pydap/handlers/dap.py:111\u001b[0m, in \u001b[0;36mDAPHandler.dataset_from_dap2\u001b[0;34m(self)\u001b[0m\n\u001b[1;32m    109\u001b[0m pydap\u001b[38;5;241m.\u001b[39mnet\u001b[38;5;241m.\u001b[39mraise_for_status(r)\n\u001b[1;32m    110\u001b[0m dds \u001b[38;5;241m=\u001b[39m safe_charset_text(r, \u001b[38;5;28mself\u001b[39m\u001b[38;5;241m.\u001b[39muser_charset)\n\u001b[0;32m--> 111\u001b[0m \u001b[38;5;28mself\u001b[39m\u001b[38;5;241m.\u001b[39mdataset \u001b[38;5;241m=\u001b[39m \u001b[43mdds_to_dataset\u001b[49m\u001b[43m(\u001b[49m\u001b[43mdds\u001b[49m\u001b[43m)\u001b[49m\n",
      "File \u001b[0;32m~/Dropbox/UCSB/pydap_cpt/pydap/src/pydap/parsers/dds.py:156\u001b[0m, in \u001b[0;36mdds_to_dataset\u001b[0;34m(dds)\u001b[0m\n\u001b[1;32m    154\u001b[0m \u001b[38;5;28;01mdef\u001b[39;00m \u001b[38;5;21mdds_to_dataset\u001b[39m(dds):\n\u001b[1;32m    155\u001b[0m     \u001b[38;5;124;03m\"\"\"Return a dataset object from a DDS representation.\"\"\"\u001b[39;00m\n\u001b[0;32m--> 156\u001b[0m     \u001b[38;5;28;01mreturn\u001b[39;00m \u001b[43mDDSParser\u001b[49m\u001b[43m(\u001b[49m\u001b[43mdds\u001b[49m\u001b[43m)\u001b[49m\u001b[38;5;241;43m.\u001b[39;49m\u001b[43mparse\u001b[49m\u001b[43m(\u001b[49m\u001b[43m)\u001b[49m\n",
      "File \u001b[0;32m~/Dropbox/UCSB/pydap_cpt/pydap/src/pydap/parsers/dds.py:47\u001b[0m, in \u001b[0;36mDDSParser.parse\u001b[0;34m(self)\u001b[0m\n\u001b[1;32m     45\u001b[0m \u001b[38;5;28mself\u001b[39m\u001b[38;5;241m.\u001b[39mconsume(\u001b[38;5;124m'\u001b[39m\u001b[38;5;124m{\u001b[39m\u001b[38;5;124m'\u001b[39m)\n\u001b[1;32m     46\u001b[0m \u001b[38;5;28;01mwhile\u001b[39;00m \u001b[38;5;129;01mnot\u001b[39;00m \u001b[38;5;28mself\u001b[39m\u001b[38;5;241m.\u001b[39mpeek(\u001b[38;5;124m'\u001b[39m\u001b[38;5;124m}\u001b[39m\u001b[38;5;124m'\u001b[39m):\n\u001b[0;32m---> 47\u001b[0m     var \u001b[38;5;241m=\u001b[39m \u001b[38;5;28;43mself\u001b[39;49m\u001b[38;5;241;43m.\u001b[39;49m\u001b[43mdeclaration\u001b[49m\u001b[43m(\u001b[49m\u001b[43m)\u001b[49m\n\u001b[1;32m     48\u001b[0m     dataset[var\u001b[38;5;241m.\u001b[39mname] \u001b[38;5;241m=\u001b[39m var\n\u001b[1;32m     49\u001b[0m \u001b[38;5;28mself\u001b[39m\u001b[38;5;241m.\u001b[39mconsume(\u001b[38;5;124m'\u001b[39m\u001b[38;5;124m}\u001b[39m\u001b[38;5;124m'\u001b[39m)\n",
      "File \u001b[0;32m~/Dropbox/UCSB/pydap_cpt/pydap/src/pydap/parsers/dds.py:67\u001b[0m, in \u001b[0;36mDDSParser.declaration\u001b[0;34m(self)\u001b[0m\n\u001b[1;32m     61\u001b[0m \u001b[38;5;28mmap\u001b[39m \u001b[38;5;241m=\u001b[39m {\n\u001b[1;32m     62\u001b[0m     \u001b[38;5;124m'\u001b[39m\u001b[38;5;124mgrid\u001b[39m\u001b[38;5;124m'\u001b[39m:      \u001b[38;5;28mself\u001b[39m\u001b[38;5;241m.\u001b[39mgrid,\n\u001b[1;32m     63\u001b[0m     \u001b[38;5;124m'\u001b[39m\u001b[38;5;124msequence\u001b[39m\u001b[38;5;124m'\u001b[39m:  \u001b[38;5;28mself\u001b[39m\u001b[38;5;241m.\u001b[39msequence,\n\u001b[1;32m     64\u001b[0m     \u001b[38;5;124m'\u001b[39m\u001b[38;5;124mstructure\u001b[39m\u001b[38;5;124m'\u001b[39m: \u001b[38;5;28mself\u001b[39m\u001b[38;5;241m.\u001b[39mstructure,\n\u001b[1;32m     65\u001b[0m }\n\u001b[1;32m     66\u001b[0m method \u001b[38;5;241m=\u001b[39m \u001b[38;5;28mmap\u001b[39m\u001b[38;5;241m.\u001b[39mget(token, \u001b[38;5;28mself\u001b[39m\u001b[38;5;241m.\u001b[39mbase)\n\u001b[0;32m---> 67\u001b[0m \u001b[38;5;28;01mreturn\u001b[39;00m \u001b[43mmethod\u001b[49m\u001b[43m(\u001b[49m\u001b[43m)\u001b[49m\n",
      "File \u001b[0;32m~/Dropbox/UCSB/pydap_cpt/pydap/src/pydap/parsers/dds.py:73\u001b[0m, in \u001b[0;36mDDSParser.base\u001b[0;34m(self)\u001b[0m\n\u001b[1;32m     70\u001b[0m \u001b[38;5;124;03m\"\"\"Parse a base variable, returning a ``BaseType``.\"\"\"\u001b[39;00m\n\u001b[1;32m     71\u001b[0m data_type_string \u001b[38;5;241m=\u001b[39m \u001b[38;5;28mself\u001b[39m\u001b[38;5;241m.\u001b[39mconsume(\u001b[38;5;124mr\u001b[39m\u001b[38;5;124m'\u001b[39m\u001b[38;5;124m\\\u001b[39m\u001b[38;5;124mw+\u001b[39m\u001b[38;5;124m'\u001b[39m)\n\u001b[0;32m---> 73\u001b[0m parser_dtype \u001b[38;5;241m=\u001b[39m \u001b[43mDAP2_parser_typemap\u001b[49m\u001b[43m(\u001b[49m\u001b[43mdata_type_string\u001b[49m\u001b[43m)\u001b[49m\n\u001b[1;32m     74\u001b[0m name \u001b[38;5;241m=\u001b[39m quote(\u001b[38;5;28mself\u001b[39m\u001b[38;5;241m.\u001b[39mconsume(\u001b[38;5;124mr\u001b[39m\u001b[38;5;124m'\u001b[39m\u001b[38;5;124m[^;\u001b[39m\u001b[38;5;124m\\\u001b[39m\u001b[38;5;124m[]+\u001b[39m\u001b[38;5;124m'\u001b[39m))\n\u001b[1;32m     76\u001b[0m shape, dimensions \u001b[38;5;241m=\u001b[39m \u001b[38;5;28mself\u001b[39m\u001b[38;5;241m.\u001b[39mdimensions()\n",
      "File \u001b[0;32m~/Dropbox/UCSB/pydap_cpt/pydap/src/pydap/parsers/dds.py:23\u001b[0m, in \u001b[0;36mDAP2_parser_typemap\u001b[0;34m(type_string)\u001b[0m\n\u001b[1;32m     17\u001b[0m \u001b[38;5;28;01mdef\u001b[39;00m \u001b[38;5;21mDAP2_parser_typemap\u001b[39m(type_string):\n\u001b[1;32m     18\u001b[0m     \u001b[38;5;124;03m\"\"\"\u001b[39;00m\n\u001b[1;32m     19\u001b[0m \u001b[38;5;124;03m    This function takes a numpy dtype object\u001b[39;00m\n\u001b[1;32m     20\u001b[0m \u001b[38;5;124;03m    and returns a dtype object that is compatible with\u001b[39;00m\n\u001b[1;32m     21\u001b[0m \u001b[38;5;124;03m    the DAP2 specification.\u001b[39;00m\n\u001b[1;32m     22\u001b[0m \u001b[38;5;124;03m    \"\"\"\u001b[39;00m\n\u001b[0;32m---> 23\u001b[0m     dtype_str \u001b[38;5;241m=\u001b[39m \u001b[43mLOWER_DAP2_TO_NUMPY_PARSER_TYPEMAP\u001b[49m\u001b[43m[\u001b[49m\u001b[43mtype_string\u001b[49m\u001b[38;5;241;43m.\u001b[39;49m\u001b[43mlower\u001b[49m\u001b[43m(\u001b[49m\u001b[43m)\u001b[49m\u001b[43m]\u001b[49m\n\u001b[1;32m     24\u001b[0m     \u001b[38;5;28;01mreturn\u001b[39;00m np\u001b[38;5;241m.\u001b[39mdtype(dtype_str)\n",
      "\u001b[0;31mKeyError\u001b[0m: 'int8'"
     ]
    }
   ],
   "source": [
    "pydap.client.open_url(dap2_url, session=session)"
   ]
  },
  {
   "cell_type": "markdown",
   "id": "b4664a27-472d-416d-8483-8007f2e06e03",
   "metadata": {},
   "source": [
    "#### Accessing via DAP4"
   ]
  },
  {
   "cell_type": "code",
   "execution_count": 14,
   "id": "85004ef2-6794-4c69-8a5d-34e05f0e6eb6",
   "metadata": {},
   "outputs": [
    {
     "data": {
      "text/plain": [
       "<DatasetType with children 'mask', 'analysed_sst', 'lon', 'time', 'sea_ice_fraction', 'dt_1km_data', 'lat', 'analysis_error', 'sst_anomaly'>"
      ]
     },
     "execution_count": 14,
     "metadata": {},
     "output_type": "execute_result"
    }
   ],
   "source": [
    "pydap_ds = pydap.client.open_url(dap4_url, session=session)\n",
    "#pydap_ds = pydap.client.open_url(dap2_url, session=session, protocol='dap4')\n",
    "pydap_ds"
   ]
  },
  {
   "cell_type": "markdown",
   "id": "e5f615c9-eae6-48bb-9c9f-9c662cd78e1f",
   "metadata": {},
   "source": [
    "#### Inspecting the dataset"
   ]
  },
  {
   "cell_type": "code",
   "execution_count": 15,
   "id": "535b77f3-b9bd-4d65-9d04-372182816c95",
   "metadata": {
    "tags": []
   },
   "outputs": [
    {
     "data": {
      "text/plain": [
       "OrderedDict([('mask',\n",
       "              <BaseType with data Dap4BaseProxy('http://opendap.earthdata.nasa.gov/collections/C1996881146-POCLOUD/granules/20220531090000-JPL-L4_GHRSST-SSTfnd-MUR-GLOB-v02.0-fv04.1', 'mask', dtype('int8'), (1, 17999, 36000), (slice(None, None, None), slice(None, None, None), slice(None, None, None)))>),\n",
       "             ('analysed_sst',\n",
       "              <BaseType with data Dap4BaseProxy('http://opendap.earthdata.nasa.gov/collections/C1996881146-POCLOUD/granules/20220531090000-JPL-L4_GHRSST-SSTfnd-MUR-GLOB-v02.0-fv04.1', 'analysed_sst', dtype('>i2'), (1, 17999, 36000), (slice(None, None, None), slice(None, None, None), slice(None, None, None)))>),\n",
       "             ('lon',\n",
       "              <BaseType with data Dap4BaseProxy('http://opendap.earthdata.nasa.gov/collections/C1996881146-POCLOUD/granules/20220531090000-JPL-L4_GHRSST-SSTfnd-MUR-GLOB-v02.0-fv04.1', 'lon', dtype('>f4'), (36000,), (slice(None, None, None),))>),\n",
       "             ('time',\n",
       "              <BaseType with data Dap4BaseProxy('http://opendap.earthdata.nasa.gov/collections/C1996881146-POCLOUD/granules/20220531090000-JPL-L4_GHRSST-SSTfnd-MUR-GLOB-v02.0-fv04.1', 'time', dtype('>i4'), (1,), (slice(None, None, None),))>),\n",
       "             ('sea_ice_fraction',\n",
       "              <BaseType with data Dap4BaseProxy('http://opendap.earthdata.nasa.gov/collections/C1996881146-POCLOUD/granules/20220531090000-JPL-L4_GHRSST-SSTfnd-MUR-GLOB-v02.0-fv04.1', 'sea_ice_fraction', dtype('int8'), (1, 17999, 36000), (slice(None, None, None), slice(None, None, None), slice(None, None, None)))>),\n",
       "             ('dt_1km_data',\n",
       "              <BaseType with data Dap4BaseProxy('http://opendap.earthdata.nasa.gov/collections/C1996881146-POCLOUD/granules/20220531090000-JPL-L4_GHRSST-SSTfnd-MUR-GLOB-v02.0-fv04.1', 'dt_1km_data', dtype('int8'), (1, 17999, 36000), (slice(None, None, None), slice(None, None, None), slice(None, None, None)))>),\n",
       "             ('lat',\n",
       "              <BaseType with data Dap4BaseProxy('http://opendap.earthdata.nasa.gov/collections/C1996881146-POCLOUD/granules/20220531090000-JPL-L4_GHRSST-SSTfnd-MUR-GLOB-v02.0-fv04.1', 'lat', dtype('>f4'), (17999,), (slice(None, None, None),))>),\n",
       "             ('analysis_error',\n",
       "              <BaseType with data Dap4BaseProxy('http://opendap.earthdata.nasa.gov/collections/C1996881146-POCLOUD/granules/20220531090000-JPL-L4_GHRSST-SSTfnd-MUR-GLOB-v02.0-fv04.1', 'analysis_error', dtype('>i2'), (1, 17999, 36000), (slice(None, None, None), slice(None, None, None), slice(None, None, None)))>),\n",
       "             ('sst_anomaly',\n",
       "              <BaseType with data Dap4BaseProxy('http://opendap.earthdata.nasa.gov/collections/C1996881146-POCLOUD/granules/20220531090000-JPL-L4_GHRSST-SSTfnd-MUR-GLOB-v02.0-fv04.1', 'sst_anomaly', dtype('>i2'), (1, 17999, 36000), (slice(None, None, None), slice(None, None, None), slice(None, None, None)))>)])"
      ]
     },
     "execution_count": 15,
     "metadata": {},
     "output_type": "execute_result"
    }
   ],
   "source": [
    "pydap_ds._dict"
   ]
  },
  {
   "cell_type": "markdown",
   "id": "2d91f1fe-a35d-4a59-b232-d2ebedae425a",
   "metadata": {},
   "source": [
    "### Accessing the data\n",
    "We can access the variables attributes. Note that the checksum is part of the data response, not the DMR. "
   ]
  },
  {
   "cell_type": "code",
   "execution_count": 16,
   "id": "db1b58d7-2d82-4d58-99f7-c59d73697b66",
   "metadata": {},
   "outputs": [
    {
     "data": {
      "text/plain": [
       "{'long_name': 'sea ice area fraction',\n",
       " 'standard_name': 'sea_ice_area_fraction',\n",
       " '_FillValue': -128,\n",
       " 'add_offset': 0.0,\n",
       " 'scale_factor': 0.01,\n",
       " 'valid_min': 0,\n",
       " 'valid_max': 100,\n",
       " 'source': 'EUMETSAT OSI-SAF, copyright EUMETSAT',\n",
       " 'comment': 'ice fraction is a dimensionless quantity between 0 and 1; it has been interpolated by a nearest neighbor approach.',\n",
       " 'coordinates': 'lon lat'}"
      ]
     },
     "execution_count": 16,
     "metadata": {},
     "output_type": "execute_result"
    }
   ],
   "source": [
    "pydap_ds['sea_ice_fraction'].attributes"
   ]
  },
  {
   "cell_type": "markdown",
   "id": "65f5b93a-aa5b-4919-a9d5-5c9d12f7328e",
   "metadata": {},
   "source": [
    "#### Lazy subsetting\n",
    "- pydap uses numpy-stype fancy indexing; i.e ```[start:stop:step]```\n",
    "- opendap uses fancy indexing of following style ```[start:step:stop]```\n",
    "- pydap translates between those styles"
   ]
  },
  {
   "cell_type": "code",
   "execution_count": 17,
   "id": "19ffaefa-f437-4181-996b-87e62d9b1b07",
   "metadata": {},
   "outputs": [],
   "source": [
    "variable = pydap_ds['sea_ice_fraction'][0, 1700:1799:10, 1800:1900:10]"
   ]
  },
  {
   "cell_type": "code",
   "execution_count": 18,
   "id": "84ec0d06-74fc-4014-a057-520bab60b5bd",
   "metadata": {},
   "outputs": [
    {
     "data": {
      "text/plain": [
       "array([[[95, 95, 95, 95, 95, 95, 95, 95, 95, 95],\n",
       "        [95, 95, 95, 95, 95, 94, 95, 95, 94, 94],\n",
       "        [95, 95, 95, 95, 94, 94, 94, 94, 94, 94],\n",
       "        [95, 95, 94, 94, 94, 94, 94, 94, 94, 94],\n",
       "        [94, 94, 94, 94, 94, 94, 94, 94, 94, 94],\n",
       "        [94, 94, 94, 94, 94, 94, 94, 94, 94, 94],\n",
       "        [94, 94, 94, 94, 94, 94, 94, 94, 94, 94],\n",
       "        [94, 94, 94, 94, 93, 93, 93, 93, 93, 94],\n",
       "        [94, 94, 94, 93, 93, 93, 93, 93, 93, 93],\n",
       "        [94, 94, 94, 94, 94, 93, 93, 93, 93, 93]]], dtype=int8)"
      ]
     },
     "execution_count": 18,
     "metadata": {},
     "output_type": "execute_result"
    }
   ],
   "source": [
    "variable.data"
   ]
  },
  {
   "cell_type": "markdown",
   "id": "2a36e819-0733-48b8-90c9-da720573e1be",
   "metadata": {},
   "source": [
    "After accessing the data, the variables attributes now contain the checksum"
   ]
  },
  {
   "cell_type": "code",
   "execution_count": 19,
   "id": "aa8575e5-4ecd-4a34-9cba-58e691f2c643",
   "metadata": {},
   "outputs": [
    {
     "data": {
      "text/plain": [
       "{'long_name': 'sea ice area fraction',\n",
       " 'standard_name': 'sea_ice_area_fraction',\n",
       " '_FillValue': -128,\n",
       " 'add_offset': 0.0,\n",
       " 'scale_factor': 0.01,\n",
       " 'valid_min': 0,\n",
       " 'valid_max': 100,\n",
       " 'source': 'EUMETSAT OSI-SAF, copyright EUMETSAT',\n",
       " 'comment': 'ice fraction is a dimensionless quantity between 0 and 1; it has been interpolated by a nearest neighbor approach.',\n",
       " 'coordinates': 'lon lat',\n",
       " 'checksum': array([3760107333], dtype=uint32)}"
      ]
     },
     "execution_count": 19,
     "metadata": {},
     "output_type": "execute_result"
    }
   ],
   "source": [
    "variable.attributes"
   ]
  },
  {
   "cell_type": "markdown",
   "id": "773d3dbf-0332-493f-ab6c-5f11ca36826d",
   "metadata": {},
   "source": [
    "#### Masking values"
   ]
  },
  {
   "cell_type": "code",
   "execution_count": 20,
   "id": "45fc4276-4d3f-4ac4-9f68-2418452a3096",
   "metadata": {},
   "outputs": [
    {
     "data": {
      "text/plain": [
       "masked_array(\n",
       "  data=[[[95, 95, 95, 95, 95, 95, 95, 95, 95, 95],\n",
       "         [95, 95, 95, 95, 95, 94, 95, 95, 94, 94],\n",
       "         [95, 95, 95, 95, 94, 94, 94, 94, 94, 94],\n",
       "         [95, 95, 94, 94, 94, 94, 94, 94, 94, 94],\n",
       "         [94, 94, 94, 94, 94, 94, 94, 94, 94, 94],\n",
       "         [94, 94, 94, 94, 94, 94, 94, 94, 94, 94],\n",
       "         [94, 94, 94, 94, 94, 94, 94, 94, 94, 94],\n",
       "         [94, 94, 94, 94, 93, 93, 93, 93, 93, 94],\n",
       "         [94, 94, 94, 93, 93, 93, 93, 93, 93, 93],\n",
       "         [94, 94, 94, 94, 94, 93, 93, 93, 93, 93]]],\n",
       "  mask=[[[False, False, False, False, False, False, False, False, False,\n",
       "          False],\n",
       "         [False, False, False, False, False, False, False, False, False,\n",
       "          False],\n",
       "         [False, False, False, False, False, False, False, False, False,\n",
       "          False],\n",
       "         [False, False, False, False, False, False, False, False, False,\n",
       "          False],\n",
       "         [False, False, False, False, False, False, False, False, False,\n",
       "          False],\n",
       "         [False, False, False, False, False, False, False, False, False,\n",
       "          False],\n",
       "         [False, False, False, False, False, False, False, False, False,\n",
       "          False],\n",
       "         [False, False, False, False, False, False, False, False, False,\n",
       "          False],\n",
       "         [False, False, False, False, False, False, False, False, False,\n",
       "          False],\n",
       "         [False, False, False, False, False, False, False, False, False,\n",
       "          False]]],\n",
       "  fill_value=999999,\n",
       "  dtype=int8)"
      ]
     },
     "execution_count": 20,
     "metadata": {},
     "output_type": "execute_result"
    }
   ],
   "source": [
    "fill_value = int(variable.attributes['_FillValue'])\n",
    "mask = (variable.data==fill_value)\n",
    "numpy.ma.array(variable.data, mask=mask)"
   ]
  },
  {
   "cell_type": "markdown",
   "id": "3f830d56-84fb-445f-b276-7997dc0cfa0d",
   "metadata": {},
   "source": [
    "## Example 2: Groups and 64 bit floats\n",
    "- Dataset containing groups\n",
    "- Dataset containing 64 bit floats "
   ]
  },
  {
   "cell_type": "code",
   "execution_count": 21,
   "id": "b9a1f203-2810-415d-bbfe-9defbf95ae01",
   "metadata": {},
   "outputs": [],
   "source": [
    "dap2_schema = 'http'\n",
    "dap4_schema = 'dap4'\n",
    "\n",
    "host = 'test.opendap.org:8080'\n",
    "path = '/opendap/dmrpp_test_files/'\n",
    "dataset = 'ATL03_20181228015957_13810110_003_01.2var.h5.dmrpp'\n",
    "\n",
    "dap2_url = f'{dap2_schema}://{host}{path}{dataset}'\n",
    "dap4_url = f'{dap4_schema}://{host}{path}{dataset}'"
   ]
  },
  {
   "cell_type": "markdown",
   "id": "f2f7588a-4b09-4c3f-b1b6-2c6241e17471",
   "metadata": {},
   "source": [
    "### DAP2"
   ]
  },
  {
   "cell_type": "code",
   "execution_count": 22,
   "id": "26a35156-105c-403b-95ab-6449776c4d72",
   "metadata": {},
   "outputs": [
    {
     "data": {
      "text/plain": [
       "<DatasetType with children '/gt1r/bckgrd_atlas/bckgrd_int_height', '/gt1r/bckgrd_atlas/delta_time', '/gt1r/heights/lat_ph', '/gt1r/heights/delta_time'>"
      ]
     },
     "execution_count": 22,
     "metadata": {},
     "output_type": "execute_result"
    }
   ],
   "source": [
    "ds_dap2 = pydap.client.open_url(dap2_url)\n",
    "ds_dap2"
   ]
  },
  {
   "cell_type": "code",
   "execution_count": 23,
   "id": "c7923848-6ba6-4544-9840-c46e5b01f6c4",
   "metadata": {},
   "outputs": [
    {
     "data": {
      "text/plain": [
       "OrderedDict([('/gt1r/bckgrd_atlas/bckgrd_int_height',\n",
       "              <BaseType with data BaseProxy('http://test.opendap.org:8080/opendap/dmrpp_test_files/ATL03_20181228015957_13810110_003_01.2var.h5.dmrpp', '/gt1r/bckgrd_atlas/bckgrd_int_height', dtype('>f4'), (89490,), (slice(None, None, None),))>),\n",
       "             ('/gt1r/bckgrd_atlas/delta_time',\n",
       "              <BaseType with data BaseProxy('http://test.opendap.org:8080/opendap/dmrpp_test_files/ATL03_20181228015957_13810110_003_01.2var.h5.dmrpp', '/gt1r/bckgrd_atlas/delta_time', dtype('>f8'), (89490,), (slice(None, None, None),))>),\n",
       "             ('/gt1r/heights/lat_ph',\n",
       "              <BaseType with data BaseProxy('http://test.opendap.org:8080/opendap/dmrpp_test_files/ATL03_20181228015957_13810110_003_01.2var.h5.dmrpp', '/gt1r/heights/lat_ph', dtype('>f8'), (4102521,), (slice(None, None, None),))>),\n",
       "             ('/gt1r/heights/delta_time',\n",
       "              <BaseType with data BaseProxy('http://test.opendap.org:8080/opendap/dmrpp_test_files/ATL03_20181228015957_13810110_003_01.2var.h5.dmrpp', '/gt1r/heights/delta_time', dtype('>f8'), (4102521,), (slice(None, None, None),))>)])"
      ]
     },
     "execution_count": 23,
     "metadata": {},
     "output_type": "execute_result"
    }
   ],
   "source": [
    "ds_dap2._dict"
   ]
  },
  {
   "cell_type": "code",
   "execution_count": 24,
   "id": "e9715be8-4040-4929-839d-0460cbf8a0f5",
   "metadata": {},
   "outputs": [
    {
     "data": {
      "text/plain": [
       "<BaseType with data BaseProxy('http://test.opendap.org:8080/opendap/dmrpp_test_files/ATL03_20181228015957_13810110_003_01.2var.h5.dmrpp', '/gt1r/bckgrd_atlas/delta_time', dtype('>f8'), (89490,), (slice(None, None, None),))>"
      ]
     },
     "execution_count": 24,
     "metadata": {},
     "output_type": "execute_result"
    }
   ],
   "source": [
    "ds_dap2['/gt1r/bckgrd_atlas/delta_time']"
   ]
  },
  {
   "cell_type": "code",
   "execution_count": 25,
   "id": "d64feb0f-cc4a-4311-8430-2b504c24bc89",
   "metadata": {},
   "outputs": [
    {
     "data": {
      "text/plain": [
       "array([31197611.26648983, 31197611.27148983, 31197611.27648983,\n",
       "       31197611.28148983, 31197611.28648982, 31197611.29148982,\n",
       "       31197611.29648982, 31197611.30148982, 31197611.30648983,\n",
       "       31197611.31148983])"
      ]
     },
     "execution_count": 25,
     "metadata": {},
     "output_type": "execute_result"
    }
   ],
   "source": [
    "ds_dap2['/gt1r/bckgrd_atlas/delta_time'][0:10].data"
   ]
  },
  {
   "cell_type": "markdown",
   "id": "78e28f7a-48db-4161-bf2c-6b6ce4d4058b",
   "metadata": {
    "tags": []
   },
   "source": [
    "### DAP4"
   ]
  },
  {
   "cell_type": "code",
   "execution_count": 26,
   "id": "309d2ffd-1165-409b-bafe-9e909627f103",
   "metadata": {},
   "outputs": [
    {
     "data": {
      "text/plain": [
       "<DatasetType with children '/gt1r/bckgrd_atlas/bckgrd_int_height', '/gt1r/bckgrd_atlas/delta_time', '/gt1r/heights/lat_ph', '/gt1r/heights/delta_time'>"
      ]
     },
     "execution_count": 26,
     "metadata": {},
     "output_type": "execute_result"
    }
   ],
   "source": [
    "ds_dap4 = pydap.client.open_url(dap4_url)\n",
    "ds_dap4"
   ]
  },
  {
   "cell_type": "code",
   "execution_count": 27,
   "id": "b96214a6-3731-4649-9f25-a6465da42b60",
   "metadata": {},
   "outputs": [
    {
     "data": {
      "text/plain": [
       "OrderedDict([('/gt1r/bckgrd_atlas/bckgrd_int_height',\n",
       "              <BaseType with data Dap4BaseProxy('http://test.opendap.org:8080/opendap/dmrpp_test_files/ATL03_20181228015957_13810110_003_01.2var.h5.dmrpp', '/gt1r/bckgrd_atlas/bckgrd_int_height', dtype('>f4'), (89490,), (slice(None, None, None),))>),\n",
       "             ('/gt1r/bckgrd_atlas/delta_time',\n",
       "              <BaseType with data Dap4BaseProxy('http://test.opendap.org:8080/opendap/dmrpp_test_files/ATL03_20181228015957_13810110_003_01.2var.h5.dmrpp', '/gt1r/bckgrd_atlas/delta_time', dtype('>f8'), (89490,), (slice(None, None, None),))>),\n",
       "             ('/gt1r/heights/lat_ph',\n",
       "              <BaseType with data Dap4BaseProxy('http://test.opendap.org:8080/opendap/dmrpp_test_files/ATL03_20181228015957_13810110_003_01.2var.h5.dmrpp', '/gt1r/heights/lat_ph', dtype('>f8'), (4102521,), (slice(None, None, None),))>),\n",
       "             ('/gt1r/heights/delta_time',\n",
       "              <BaseType with data Dap4BaseProxy('http://test.opendap.org:8080/opendap/dmrpp_test_files/ATL03_20181228015957_13810110_003_01.2var.h5.dmrpp', '/gt1r/heights/delta_time', dtype('>f8'), (4102521,), (slice(None, None, None),))>)])"
      ]
     },
     "execution_count": 27,
     "metadata": {},
     "output_type": "execute_result"
    }
   ],
   "source": [
    "ds_dap4._dict"
   ]
  },
  {
   "cell_type": "code",
   "execution_count": 29,
   "id": "f21cf694-b910-41b7-8edb-8b30053708a2",
   "metadata": {},
   "outputs": [
    {
     "data": {
      "text/plain": [
       "<BaseType with data array([31197611.26648983, 31197611.27148983, 31197611.27648983,\n",
       "       31197611.28148983, 31197611.28648982, 31197611.29148982,\n",
       "       31197611.29648982, 31197611.30148982, 31197611.30648983,\n",
       "       31197611.31148983])>"
      ]
     },
     "execution_count": 29,
     "metadata": {},
     "output_type": "execute_result"
    }
   ],
   "source": [
    "data = ds_dap4['/gt1r/bckgrd_atlas/delta_time'][0:10]\n",
    "data"
   ]
  },
  {
   "cell_type": "code",
   "execution_count": 30,
   "id": "d88410f9-fa2d-4345-b89e-42c6baeb0263",
   "metadata": {},
   "outputs": [
    {
     "data": {
      "text/plain": [
       "{'description': 'Elapsed GPS Seconds from the ATLAS SDP GPS Epoch, referenced to the start of the 50-shot sum. This is based on every fiftieth laser fire time, which leads to a very close alignment with major frame boundaries (+/- 1 shot). The ATLAS Standard Data Products (SDP) epoch offset is defined within /ancillary_data/atlas_sdp_gps_epoch as the number of GPS seconds between the GPS epoch (1980-01-06T00:00:00.000000Z UTC) and the ATLAS SDP epoch. By adding the offset contained within atlas_sdp_gps_epoch to delta time parameters, the time in gps_seconds relative to the GPS epoch can be computed.',\n",
       " 'long_name': 'Time at the start of ATLAS 50-shot sum',\n",
       " 'source': 'ATL02',\n",
       " 'standard_name': 'time',\n",
       " 'units': 'seconds since 2018-01-01',\n",
       " 'checksum': array([4139645269], dtype=uint32)}"
      ]
     },
     "execution_count": 30,
     "metadata": {},
     "output_type": "execute_result"
    }
   ],
   "source": [
    "data.attributes"
   ]
  },
  {
   "cell_type": "markdown",
   "id": "5ed3cb71-927b-43be-8cb9-d8282170edd9",
   "metadata": {},
   "source": [
    "## Example 3: Maps/Grids"
   ]
  },
  {
   "cell_type": "code",
   "execution_count": 31,
   "id": "802968dc-43da-4ee9-8082-6345724c32d9",
   "metadata": {},
   "outputs": [],
   "source": [
    "dap2_schema = 'http'\n",
    "dap4_schema = 'dap4'\n",
    "\n",
    "host = 'opendap.earthdata.nasa.gov'\n",
    "path = '/hyrax/data/nc/'\n",
    "dataset = 'coads_climatology.nc'\n",
    "\n",
    "dap2_url = f'{dap2_schema}://{host}{path}{dataset}'\n",
    "dap4_url = f'{dap4_schema}://{host}{path}{dataset}'"
   ]
  },
  {
   "cell_type": "code",
   "execution_count": 32,
   "id": "29cc25ff-1291-4ebb-9fc9-852415e2759f",
   "metadata": {},
   "outputs": [],
   "source": [
    "ds_dap2 = pydap.client.open_url(dap2_url, session=session)\n",
    "ds_dap4 = pydap.client.open_url(dap4_url, session=session)"
   ]
  },
  {
   "cell_type": "code",
   "execution_count": 33,
   "id": "45d59935-f243-47c0-9aec-cbeab830812e",
   "metadata": {},
   "outputs": [],
   "source": [
    "data_dap2 = ds_dap2['SST'][0:1:1, 40:42:1, 0:20:2]"
   ]
  },
  {
   "cell_type": "code",
   "execution_count": 34,
   "id": "b5208854-08a2-4c88-ba91-b2ca1c47184a",
   "metadata": {},
   "outputs": [
    {
     "data": {
      "text/plain": [
       "[array([[[-9.9999998e+33, -9.9999998e+33, -9.9999998e+33, -9.9999998e+33,\n",
       "          -9.9999998e+33,  2.8480732e+01,  2.8533415e+01,  2.8464815e+01,\n",
       "           2.8058332e+01,  2.7882812e+01],\n",
       "         [-9.9999998e+33, -9.9999998e+33, -9.9999998e+33, -9.9999998e+33,\n",
       "          -9.9999998e+33,  2.8278717e+01,  2.8698605e+01,  2.8708000e+01,\n",
       "           2.7853157e+01,  2.7896786e+01]]], dtype=float32),\n",
       " array([366.]),\n",
       " array([-9., -7.]),\n",
       " array([21., 25., 29., 33., 37., 41., 45., 49., 53., 57.])]"
      ]
     },
     "execution_count": 34,
     "metadata": {},
     "output_type": "execute_result"
    }
   ],
   "source": [
    "data_dap2.data"
   ]
  },
  {
   "cell_type": "code",
   "execution_count": 35,
   "id": "7ad1b31e-889a-48ce-84ea-c463bf1cfb40",
   "metadata": {},
   "outputs": [],
   "source": [
    "data_dap4 = ds_dap4['SST'][0:1:1, 40:42:1, 0:20:2]"
   ]
  },
  {
   "cell_type": "code",
   "execution_count": 36,
   "id": "481c432c-f099-45a5-9f12-e2fa7fa6c4c4",
   "metadata": {},
   "outputs": [
    {
     "data": {
      "text/plain": [
       "[array([[[-9.9999998e+33, -9.9999998e+33, -9.9999998e+33, -9.9999998e+33,\n",
       "          -9.9999998e+33,  2.8480732e+01,  2.8533415e+01,  2.8464815e+01,\n",
       "           2.8058332e+01,  2.7882812e+01],\n",
       "         [-9.9999998e+33, -9.9999998e+33, -9.9999998e+33, -9.9999998e+33,\n",
       "          -9.9999998e+33,  2.8278717e+01,  2.8698605e+01,  2.8708000e+01,\n",
       "           2.7853157e+01,  2.7896786e+01]]], dtype=float32),\n",
       " array([366.]),\n",
       " array([-9., -7.]),\n",
       " array([21., 25., 29., 33., 37., 41., 45., 49., 53., 57.])]"
      ]
     },
     "execution_count": 36,
     "metadata": {},
     "output_type": "execute_result"
    }
   ],
   "source": [
    "data_dap4.data[:]"
   ]
  },
  {
   "cell_type": "markdown",
   "id": "e233663a-20f4-4159-b720-f9952ad28190",
   "metadata": {},
   "source": [
    "## Example 4 MOD05"
   ]
  },
  {
   "cell_type": "code",
   "execution_count": 37,
   "id": "12b90271-11fb-4135-9284-295b457f553d",
   "metadata": {},
   "outputs": [],
   "source": [
    "url = 'dap4://test.opendap.org/opendap/hyrax/data/stare/MOD05_L2.A2019336.2315.061.2019337071952.hdf'"
   ]
  },
  {
   "cell_type": "code",
   "execution_count": 38,
   "id": "1d49677c-1ecc-49e1-a6f5-df3d75540101",
   "metadata": {},
   "outputs": [],
   "source": [
    "ds = pydap.client.open_url(url)"
   ]
  },
  {
   "cell_type": "code",
   "execution_count": 39,
   "id": "33004dbe-cbbe-4d2b-b9d3-cc1889d7e88d",
   "metadata": {},
   "outputs": [
    {
     "data": {
      "text/plain": [
       "<BaseType with data Dap4BaseProxy('http://test.opendap.org/opendap/hyrax/data/stare/MOD05_L2.A2019336.2315.061.2019337071952.hdf', 'Water_Vapor_Infrared', dtype('>i2'), (406, 270), (slice(None, None, None), slice(None, None, None)))>"
      ]
     },
     "execution_count": 39,
     "metadata": {},
     "output_type": "execute_result"
    }
   ],
   "source": [
    "ds['Water_Vapor_Infrared']"
   ]
  },
  {
   "cell_type": "markdown",
   "id": "d067e5ed-f766-42c2-b9c8-a1b281eb4c41",
   "metadata": {},
   "source": [
    "## Example 5 MY1DQND"
   ]
  },
  {
   "cell_type": "code",
   "execution_count": 40,
   "id": "97ed0be8-2a76-409f-9676-22ef48ec01ab",
   "metadata": {},
   "outputs": [],
   "source": [
    "url = 'http://test.opendap.org/opendap/MODIS/MOOA/MY1DQN.004/2004.12.31/MY1DQND1.sst.ADD2005001.040.2006011070802.hdf'"
   ]
  },
  {
   "cell_type": "code",
   "execution_count": 41,
   "id": "7ab4ceed-f9c1-4572-970a-63f90de541f2",
   "metadata": {},
   "outputs": [],
   "source": [
    "ds = pydap.client.open_url(url)"
   ]
  },
  {
   "cell_type": "code",
   "execution_count": 42,
   "id": "df634688-a69a-4bfa-b656-87a6f36e676f",
   "metadata": {},
   "outputs": [
    {
     "data": {
      "text/plain": [
       "<BaseType with data BaseProxy('http://test.opendap.org/opendap/MODIS/MOOA/MY1DQN.004/2004.12.31/MY1DQND1.sst.ADD2005001.040.2006011070802.hdf', 'sst_qual_b', dtype('uint8'), (180, 360), (slice(None, None, None), slice(None, None, None)))>"
      ]
     },
     "execution_count": 42,
     "metadata": {},
     "output_type": "execute_result"
    }
   ],
   "source": [
    "ds['sst_qual_b']"
   ]
  },
  {
   "cell_type": "code",
   "execution_count": null,
   "id": "9366f948-a49f-4b4c-96cc-3692230bb2b2",
   "metadata": {},
   "outputs": [],
   "source": []
  }
 ],
 "metadata": {
  "kernelspec": {
   "display_name": "Python 3 (ipykernel)",
   "language": "python",
   "name": "python3"
  },
  "language_info": {
   "codemirror_mode": {
    "name": "ipython",
    "version": 3
   },
   "file_extension": ".py",
   "mimetype": "text/x-python",
   "name": "python",
   "nbconvert_exporter": "python",
   "pygments_lexer": "ipython3",
   "version": "3.10.4"
  }
 },
 "nbformat": 4,
 "nbformat_minor": 5
}
