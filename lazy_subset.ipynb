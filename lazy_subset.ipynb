{
 "cells": [
  {
   "cell_type": "code",
   "execution_count": 1,
   "id": "c3e360e9-54ef-4fed-bf2a-00ef6cd59b9d",
   "metadata": {},
   "outputs": [],
   "source": [
    "import pydap.client\n",
    "from six.moves.urllib.parse import urlsplit\n",
    "import pydap.net\n",
    "import pydap.parsers.dmr\n",
    "import pydap.handlers.dap\n",
    "import pydap.parsers.dds"
   ]
  },
  {
   "cell_type": "markdown",
   "id": "19cf23fc-ba0c-4922-b73c-93ebfea05343",
   "metadata": {},
   "source": [
    "# DAP2"
   ]
  },
  {
   "cell_type": "code",
   "execution_count": 2,
   "id": "0d5b4aee-28c0-49d4-97cd-c2e643290dc9",
   "metadata": {},
   "outputs": [],
   "source": [
    "url = 'http://test.opendap.org/opendap/data/nc/coads_climatology.nc'\n",
    "dataset = pydap.client.open_url(url)"
   ]
  },
  {
   "cell_type": "code",
   "execution_count": 3,
   "id": "20f8ba49-b2a7-4eeb-a0b3-2409cbce3a1e",
   "metadata": {},
   "outputs": [
    {
     "data": {
      "text/plain": [
       "<BaseType with data array([[[-1.2628571e+00, -9.9999998e+33, -9.9999998e+33, -9.9999998e+33],\n",
       "        [-7.6916665e-01, -7.7999997e-01, -6.7545450e-01, -5.9571427e-01],\n",
       "        [ 1.2833333e-01, -5.0000016e-02, -6.3636363e-02, -1.4166667e-01],\n",
       "        [ 6.3800001e-01,  8.9538461e-01,  7.2166663e-01,  8.1000000e-01]]],\n",
       "      dtype=float32)>"
      ]
     },
     "execution_count": 3,
     "metadata": {},
     "output_type": "execute_result"
    }
   ],
   "source": [
    "dataset['SST'][0,10:14,10:14].array"
   ]
  },
  {
   "cell_type": "code",
   "execution_count": 4,
   "id": "bff02b79-4504-4347-bc49-46d90e47e3ce",
   "metadata": {},
   "outputs": [],
   "source": [
    "pydap_subset_ds = dataset.functions.geogrid(dataset.SST, 75, -100, -25, 20)"
   ]
  },
  {
   "cell_type": "code",
   "execution_count": 5,
   "id": "85627b91-07d8-41f0-853a-9f4344040c96",
   "metadata": {},
   "outputs": [
    {
     "data": {
      "text/plain": [
       "'SST'"
      ]
     },
     "execution_count": 5,
     "metadata": {},
     "output_type": "execute_result"
    }
   ],
   "source": [
    "dataset['SST'].id"
   ]
  },
  {
   "cell_type": "markdown",
   "id": "249dd733-7972-49d4-b6af-bb5bb03c6eee",
   "metadata": {},
   "source": [
    "## Groups"
   ]
  },
  {
   "cell_type": "code",
   "execution_count": 6,
   "id": "b4286503-deaf-4dcf-b959-97b8775c919d",
   "metadata": {},
   "outputs": [
    {
     "data": {
      "text/plain": [
       "<DatasetType with children '/gt1r/bckgrd_atlas/bckgrd_int_height', '/gt1r/bckgrd_atlas/delta_time', '/gt1r/heights/lat_ph', '/gt1r/heights/delta_time'>"
      ]
     },
     "execution_count": 6,
     "metadata": {},
     "output_type": "execute_result"
    }
   ],
   "source": [
    "url = 'http://test.opendap.org:8080/opendap/dmrpp_test_files/ATL03_20181228015957_13810110_003_01.2var.h5.dmrpp'\n",
    "dap2dataset = pydap.client.open_url(url)\n",
    "dap2dataset"
   ]
  },
  {
   "cell_type": "code",
   "execution_count": 7,
   "id": "ec264bd3-0014-4517-aa1a-eb28a73c2027",
   "metadata": {},
   "outputs": [
    {
     "data": {
      "text/plain": [
       "<BaseType with data array([557.61395], dtype=float32)>"
      ]
     },
     "execution_count": 7,
     "metadata": {},
     "output_type": "execute_result"
    }
   ],
   "source": [
    "dap2dataset['/gt1r/bckgrd_atlas/bckgrd_int_height'][1]"
   ]
  },
  {
   "cell_type": "markdown",
   "id": "ab4aaf9b-0989-42ac-9fa5-5cd142ec25c8",
   "metadata": {},
   "source": [
    "# DAP4"
   ]
  },
  {
   "cell_type": "code",
   "execution_count": 6,
   "id": "9b29bfad-8c63-4500-8d66-5feb70fa7f6a",
   "metadata": {},
   "outputs": [
    {
     "data": {
      "text/plain": [
       "<DatasetType with children 'COADSX', 'COADSY', 'TIME', 'SST', 'AIRT', 'UWND', 'VWND'>"
      ]
     },
     "execution_count": 6,
     "metadata": {},
     "output_type": "execute_result"
    }
   ],
   "source": [
    "import pydap.client\n",
    "url = 'dap4://test.opendap.org/opendap/data/nc/coads_climatology.nc'\n",
    "dap4dataset = pydap.client.open_url(url)\n",
    "dap4dataset"
   ]
  },
  {
   "cell_type": "code",
   "execution_count": 7,
   "id": "63ff7aa0-aeec-450c-8287-0bd836bbc91e",
   "metadata": {
    "tags": []
   },
   "outputs": [
    {
     "name": "stdout",
     "output_type": "stream",
     "text": [
      "http://test.opendap.org/opendap/data/nc/coads_climatology.nc.dap?dap4.ce=SST[0:1:0][10:1:13][10:1:13]\n"
     ]
    },
    {
     "ename": "ValueError",
     "evalue": "not enough values to unpack (expected 2, got 1)",
     "output_type": "error",
     "traceback": [
      "\u001b[0;31m---------------------------------------------------------------------------\u001b[0m",
      "\u001b[0;31mValueError\u001b[0m                                Traceback (most recent call last)",
      "\u001b[0;32m/tmp/ipykernel_156436/1680077305.py\u001b[0m in \u001b[0;36m<module>\u001b[0;34m\u001b[0m\n\u001b[0;32m----> 1\u001b[0;31m \u001b[0mdap4dataset\u001b[0m\u001b[0;34m[\u001b[0m\u001b[0;34m'SST'\u001b[0m\u001b[0;34m]\u001b[0m\u001b[0;34m[\u001b[0m\u001b[0;36m0\u001b[0m\u001b[0;34m,\u001b[0m\u001b[0;36m10\u001b[0m\u001b[0;34m:\u001b[0m\u001b[0;36m14\u001b[0m\u001b[0;34m,\u001b[0m\u001b[0;36m10\u001b[0m\u001b[0;34m:\u001b[0m\u001b[0;36m14\u001b[0m\u001b[0;34m]\u001b[0m\u001b[0;34m.\u001b[0m\u001b[0marray\u001b[0m\u001b[0;34m\u001b[0m\u001b[0;34m\u001b[0m\u001b[0m\n\u001b[0m",
      "\u001b[0;32m~/Dropbox/UCSB/pydap_cpt/pydap/src/pydap/model.py\u001b[0m in \u001b[0;36m__getitem__\u001b[0;34m(self, key)\u001b[0m\n\u001b[1;32m    753\u001b[0m                 \u001b[0;32mif\u001b[0m \u001b[0mtype\u001b[0m\u001b[0;34m(\u001b[0m\u001b[0mself\u001b[0m\u001b[0;34m.\u001b[0m\u001b[0mdata\u001b[0m\u001b[0;34m)\u001b[0m\u001b[0;34m.\u001b[0m\u001b[0m__name__\u001b[0m \u001b[0;34m==\u001b[0m \u001b[0;34m'BaseProxyDap4'\u001b[0m\u001b[0;34m:\u001b[0m\u001b[0;34m\u001b[0m\u001b[0;34m\u001b[0m\u001b[0m\n\u001b[1;32m    754\u001b[0m                     \u001b[0;32mpass\u001b[0m\u001b[0;34m\u001b[0m\u001b[0;34m\u001b[0m\u001b[0m\n\u001b[0;32m--> 755\u001b[0;31m                 \u001b[0mvar\u001b[0m\u001b[0;34m.\u001b[0m\u001b[0mdata\u001b[0m \u001b[0;34m=\u001b[0m \u001b[0mself\u001b[0m\u001b[0;34m[\u001b[0m\u001b[0mvar\u001b[0m\u001b[0;34m.\u001b[0m\u001b[0mname\u001b[0m\u001b[0;34m]\u001b[0m\u001b[0;34m.\u001b[0m\u001b[0mdata\u001b[0m\u001b[0;34m[\u001b[0m\u001b[0mslice_\u001b[0m\u001b[0;34m]\u001b[0m\u001b[0;34m\u001b[0m\u001b[0;34m\u001b[0m\u001b[0m\n\u001b[0m\u001b[1;32m    756\u001b[0m             \u001b[0;32mreturn\u001b[0m \u001b[0mout\u001b[0m\u001b[0;34m\u001b[0m\u001b[0;34m\u001b[0m\u001b[0m\n\u001b[1;32m    757\u001b[0m \u001b[0;34m\u001b[0m\u001b[0m\n",
      "\u001b[0;32m~/Dropbox/UCSB/pydap_cpt/pydap/src/pydap/handlers/dap.py\u001b[0m in \u001b[0;36m__getitem__\u001b[0;34m(self, index)\u001b[0m\n\u001b[1;32m    306\u001b[0m \u001b[0;34m\u001b[0m\u001b[0m\n\u001b[1;32m    307\u001b[0m         \u001b[0mpydap\u001b[0m\u001b[0;34m.\u001b[0m\u001b[0mnet\u001b[0m\u001b[0;34m.\u001b[0m\u001b[0mraise_for_status\u001b[0m\u001b[0;34m(\u001b[0m\u001b[0mr\u001b[0m\u001b[0;34m)\u001b[0m\u001b[0;34m\u001b[0m\u001b[0;34m\u001b[0m\u001b[0m\n\u001b[0;32m--> 308\u001b[0;31m         \u001b[0mdmr\u001b[0m\u001b[0;34m,\u001b[0m \u001b[0mdata\u001b[0m \u001b[0;34m=\u001b[0m \u001b[0msafe_dmr_and_data\u001b[0m\u001b[0;34m(\u001b[0m\u001b[0mr\u001b[0m\u001b[0;34m,\u001b[0m \u001b[0mself\u001b[0m\u001b[0;34m.\u001b[0m\u001b[0muser_charset\u001b[0m\u001b[0;34m)\u001b[0m\u001b[0;34m\u001b[0m\u001b[0;34m\u001b[0m\u001b[0m\n\u001b[0m\u001b[1;32m    309\u001b[0m \u001b[0;34m\u001b[0m\u001b[0m\n\u001b[1;32m    310\u001b[0m         \u001b[0;31m# Parse received dataset:\u001b[0m\u001b[0;34m\u001b[0m\u001b[0;34m\u001b[0m\u001b[0;34m\u001b[0m\u001b[0m\n",
      "\u001b[0;32m~/Dropbox/UCSB/pydap_cpt/pydap/src/pydap/handlers/dap.py\u001b[0m in \u001b[0;36msafe_dmr_and_data\u001b[0;34m(r, user_charset)\u001b[0m\n\u001b[1;32m    192\u001b[0m     \u001b[0;32melse\u001b[0m\u001b[0;34m:\u001b[0m\u001b[0;34m\u001b[0m\u001b[0;34m\u001b[0m\u001b[0m\n\u001b[1;32m    193\u001b[0m         \u001b[0mraw\u001b[0m \u001b[0;34m=\u001b[0m \u001b[0mr\u001b[0m\u001b[0;34m.\u001b[0m\u001b[0mbody\u001b[0m\u001b[0;34m\u001b[0m\u001b[0;34m\u001b[0m\u001b[0m\n\u001b[0;32m--> 194\u001b[0;31m     \u001b[0mdmr\u001b[0m\u001b[0;34m,\u001b[0m \u001b[0mdata\u001b[0m \u001b[0;34m=\u001b[0m \u001b[0mraw\u001b[0m\u001b[0;34m.\u001b[0m\u001b[0msplit\u001b[0m\u001b[0;34m(\u001b[0m\u001b[0;34mb'</Dataset>'\u001b[0m\u001b[0;34m,\u001b[0m \u001b[0;36m1\u001b[0m\u001b[0;34m)\u001b[0m\u001b[0;34m\u001b[0m\u001b[0;34m\u001b[0m\u001b[0m\n\u001b[0m\u001b[1;32m    195\u001b[0m     \u001b[0mdmr\u001b[0m \u001b[0;34m=\u001b[0m \u001b[0mdmr\u001b[0m\u001b[0;34m[\u001b[0m\u001b[0;36m4\u001b[0m\u001b[0;34m:\u001b[0m\u001b[0;34m]\u001b[0m \u001b[0;34m+\u001b[0m \u001b[0;34mb'</Dataset>'\u001b[0m\u001b[0;34m\u001b[0m\u001b[0;34m\u001b[0m\u001b[0m\n\u001b[1;32m    196\u001b[0m     \u001b[0mdmr\u001b[0m \u001b[0;34m=\u001b[0m \u001b[0mdmr\u001b[0m\u001b[0;34m.\u001b[0m\u001b[0mdecode\u001b[0m\u001b[0;34m(\u001b[0m\u001b[0mget_charset\u001b[0m\u001b[0;34m(\u001b[0m\u001b[0mr\u001b[0m\u001b[0;34m,\u001b[0m \u001b[0muser_charset\u001b[0m\u001b[0;34m)\u001b[0m\u001b[0;34m)\u001b[0m\u001b[0;34m\u001b[0m\u001b[0;34m\u001b[0m\u001b[0m\n",
      "\u001b[0;31mValueError\u001b[0m: not enough values to unpack (expected 2, got 1)"
     ]
    }
   ],
   "source": [
    "dap4dataset['SST'][0,10:14,10:14].array"
   ]
  },
  {
   "cell_type": "code",
   "execution_count": null,
   "id": "eed1ce0c-78df-4dfd-9687-e2cdf956531e",
   "metadata": {},
   "outputs": [],
   "source": []
  }
 ],
 "metadata": {
  "kernelspec": {
   "display_name": "Python 3",
   "language": "python",
   "name": "python3"
  },
  "language_info": {
   "codemirror_mode": {
    "name": "ipython",
    "version": 3
   },
   "file_extension": ".py",
   "mimetype": "text/x-python",
   "name": "python",
   "nbconvert_exporter": "python",
   "pygments_lexer": "ipython3",
   "version": "3.7.13"
  }
 },
 "nbformat": 4,
 "nbformat_minor": 5
}
