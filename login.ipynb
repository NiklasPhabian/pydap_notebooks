{
 "cells": [
  {
   "cell_type": "code",
   "execution_count": 6,
   "id": "9307021d-f4f7-4e60-b464-1f27f1f535d7",
   "metadata": {},
   "outputs": [],
   "source": [
    "import requests\n",
    "import configparser"
   ]
  },
  {
   "cell_type": "code",
   "execution_count": 7,
   "id": "a6a86ce0-9ac0-4213-89d3-de9234eeb8b3",
   "metadata": {},
   "outputs": [],
   "source": [
    "class SessionEarthData(requests.Session):\n",
    "    AUTH_HOST = 'urs.earthdata.nasa.gov'\n",
    "\n",
    "    def __init__(self, username, password):\n",
    "        super().__init__()\n",
    "        self.auth = (username, password)\n",
    "\n",
    "    def rebuild_auth(self, prepared_request, response):\n",
    "        headers = prepared_request.headers\n",
    "        url = prepared_request.url\n",
    "        if 'Authorization' in headers:\n",
    "            original_parsed = requests.utils.urlparse(response.request.url)\n",
    "            redirect_parsed = requests.utils.urlparse(url)\n",
    "            if (original_parsed.hostname != redirect_parsed.hostname) and \\\n",
    "                    redirect_parsed.hostname != self.AUTH_HOST and \\\n",
    "                    original_parsed.hostname != self.AUTH_HOST:\n",
    "                del headers['Authorization']\n",
    "        return"
   ]
  },
  {
   "cell_type": "code",
   "execution_count": 8,
   "id": "a01390bb-271b-443e-9c66-6437da0a643c",
   "metadata": {},
   "outputs": [],
   "source": [
    "config = configparser.ConfigParser()\n",
    "config.read('user.config')\n",
    "username= config['user']['user']\n",
    "password = config['user']['pwd']\n",
    "session = SessionEarthData(username=username, password=password)"
   ]
  },
  {
   "cell_type": "code",
   "execution_count": 9,
   "id": "05bfe4a8-4bb2-439d-91e6-0d5eb95da7ed",
   "metadata": {},
   "outputs": [
    {
     "data": {
      "text/plain": [
       "<__main__.SessionEarthData at 0x7f4ddc4fc250>"
      ]
     },
     "execution_count": 9,
     "metadata": {},
     "output_type": "execute_result"
    }
   ],
   "source": [
    "session"
   ]
  },
  {
   "cell_type": "code",
   "execution_count": 11,
   "id": "3b35fd0d-3f19-45e5-9f68-cf03f34e4cbb",
   "metadata": {},
   "outputs": [],
   "source": [
    "url = 'https://opendap.earthdata.nasa.gov/collections/C1996881146-POCLOUD/granules/20220102090000-JPL-L4_GHRSST-SSTfnd-MUR-GLOB-v02.0-fv04.1.dmr'\n",
    "ret = session.get(url)"
   ]
  },
  {
   "cell_type": "code",
   "execution_count": 14,
   "id": "d5046cd8-bdab-4305-b78c-93d7ede79630",
   "metadata": {},
   "outputs": [],
   "source": [
    "with open('data.dmr', 'wt') as f:\n",
    "    f.write(ret.text)"
   ]
  },
  {
   "cell_type": "code",
   "execution_count": null,
   "id": "6d20113a-a72b-4e82-9e38-232d76a58dad",
   "metadata": {},
   "outputs": [],
   "source": []
  }
 ],
 "metadata": {
  "kernelspec": {
   "display_name": "Python 3",
   "language": "python",
   "name": "python3"
  },
  "language_info": {
   "codemirror_mode": {
    "name": "ipython",
    "version": 3
   },
   "file_extension": ".py",
   "mimetype": "text/x-python",
   "name": "python",
   "nbconvert_exporter": "python",
   "pygments_lexer": "ipython3",
   "version": "3.7.13"
  }
 },
 "nbformat": 4,
 "nbformat_minor": 5
}
